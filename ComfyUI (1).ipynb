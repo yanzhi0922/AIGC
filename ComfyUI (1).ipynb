{
 "cells": [
  {
   "cell_type": "markdown",
   "id": "912f1277-d933-4aa4-a4c3-4ead84516bc9",
   "metadata": {},
   "source": [
    "# ComfyUI 样例"
   ]
  },
  {
   "cell_type": "markdown",
   "id": "aca19a63-5dad-4318-a5f7-6b3d9e1b91f6",
   "metadata": {},
   "source": [
    "下载并安装 ComfyUI"
   ]
  },
  {
   "cell_type": "code",
   "execution_count": null,
   "id": "ccd0c0a4-8a96-4b5e-9ec8-26d4e87271f4",
   "metadata": {
    "ExecutionIndicator": {
     "show": true
    },
    "tags": []
   },
   "outputs": [],
   "source": [
    "# #@title Environment Setup\n",
    "\n",
    "from pathlib import Path\n",
    "\n",
    "OPTIONS = {}\n",
    "UPDATE_COMFY_UI = True  #@param {type:\"boolean\"}\n",
    "INSTALL_COMFYUI_MANAGER = True  #@param {type:\"boolean\"}\n",
    "INSTALL_KOLORS = True  #@param {type:\"boolean\"}\n",
    "INSTALL_CUSTOM_NODES_DEPENDENCIES = True  #@param {type:\"boolean\"}\n",
    "OPTIONS['UPDATE_COMFY_UI'] = UPDATE_COMFY_UI\n",
    "OPTIONS['INSTALL_COMFYUI_MANAGER'] = INSTALL_COMFYUI_MANAGER\n",
    "OPTIONS['INSTALL_KOLORS'] = INSTALL_KOLORS\n",
    "OPTIONS['INSTALL_CUSTOM_NODES_DEPENDENCIES'] = INSTALL_CUSTOM_NODES_DEPENDENCIES\n",
    "\n",
    "current_dir = !pwd\n",
    "WORKSPACE = f\"{current_dir[0]}/ComfyUI\"\n",
    "\n",
    "\n",
    "\n",
    "%cd /mnt/workspace/\n",
    "\n",
    "![ ! -d $WORKSPACE ] && echo -= Initial setup ComfyUI =- && git clone https://github.com/comfyanonymous/ComfyUI\n",
    "%cd $WORKSPACE\n",
    "\n",
    "if OPTIONS['UPDATE_COMFY_UI']:\n",
    "  !echo \"-= Updating ComfyUI =-\"\n",
    "  !git pull\n",
    "\n",
    "\n",
    "if OPTIONS['INSTALL_COMFYUI_MANAGER']:\n",
    "  %cd custom_nodes\n",
    "  ![ ! -d ComfyUI-Manager ] && echo -= Initial setup ComfyUI-Manager =- && git clone https://github.com/ltdrdata/ComfyUI-Manager\n",
    "  %cd ComfyUI-Manager\n",
    "  !git pull\n",
    "\n",
    "if OPTIONS['INSTALL_KOLORS']:\n",
    "  %cd ../\n",
    "  ![ ! -d ComfyUI-KwaiKolorsWrapper ] && echo -= Initial setup KOLORS =- && git clone https://github.com/kijai/ComfyUI-KwaiKolorsWrapper.git\n",
    "  %cd ComfyUI-KwaiKolorsWrapper\n",
    "  !git pull\n",
    "\n",
    "%cd $WORKSPACE\n",
    "\n",
    "if OPTIONS['INSTALL_CUSTOM_NODES_DEPENDENCIES']:\n",
    "  !pwd\n",
    "  !echo \"-= Install custom nodes dependencies =-\"\n",
    "  ![ -f \"custom_nodes/ComfyUI-Manager/scripts/colab-dependencies.py\" ] && python \"custom_nodes/ComfyUI-Manager/scripts/colab-dependencies.py\"\n",
    "\n",
    "!wget \"https://modelscope.oss-cn-beijing.aliyuncs.com/resource/cloudflared-linux-amd64.deb\"\n",
    "!dpkg -i cloudflared-linux-amd64.deb"
   ]
  },
  {
   "cell_type": "markdown",
   "id": "0fae6729-48a1-4787-8bad-3a180254639f",
   "metadata": {},
   "source": [
    "下载模型"
   ]
  },
  {
   "cell_type": "code",
   "execution_count": null,
   "id": "c25aff94-0920-48ce-9681-c62ad51459a3",
   "metadata": {
    "tags": []
   },
   "outputs": [],
   "source": [
    "#@markdown ###Download standard resources\n",
    "\n",
    "OPTIONS = {}\n",
    "\n",
    "#@markdown **unet**\n",
    "\n",
    "!wget -c \"https://modelscope.cn/models/Kwai-Kolors/Kolors/resolve/master/unet/diffusion_pytorch_model.fp16.safetensors\" -P ./models/diffusers/Kolors/unet/\n",
    "!wget -c \"https://modelscope.cn/models/Kwai-Kolors/Kolors/resolve/master/unet/config.json\" -P ./models/diffusers/Kolors/unet/\n",
    "\n",
    "\n",
    "#@markdown **encoder**\n",
    "\n",
    "!modelscope download --model=ZhipuAI/chatglm3-6b-base --local_dir ./models/diffusers/Kolors/text_encoder/\n",
    "\n",
    "#@markdown **vae**\n",
    "\n",
    "!wget -c \"https://modelscope.cn/models/AI-ModelScope/sdxl-vae-fp16-fix/resolve/master/sdxl.vae.safetensors\" -P ./models/vae/ #sdxl-vae-fp16-fix.safetensors\n",
    "\n",
    "#@markdown **scheduler**\n",
    "!wget -c \"https://modelscope.cn/models/Kwai-Kolors/Kolors/resolve/master/scheduler/scheduler_config.json\" -P ./models/diffusers/Kolors/scheduler/\n",
    "\n",
    "#@markdown **modelindex**\n",
    "!wget -c \"https://modelscope.cn/models/Kwai-Kolors/Kolors/resolve/master/model_index.json\" -P ./models/diffusers/Kolors/\n"
   ]
  },
  {
   "cell_type": "markdown",
   "id": "23130786-fd6a-41f3-8d14-fb151868436d",
   "metadata": {},
   "source": [
    "安装 LoRA 节点"
   ]
  },
  {
   "cell_type": "code",
   "execution_count": 3,
   "id": "0a12d758-687c-4420-adec-c97cfff39b8e",
   "metadata": {
    "execution": {
     "iopub.execute_input": "2024-07-18T11:55:13.080752Z",
     "iopub.status.busy": "2024-07-18T11:55:13.080448Z",
     "iopub.status.idle": "2024-07-18T11:55:13.086214Z",
     "shell.execute_reply": "2024-07-18T11:55:13.085690Z",
     "shell.execute_reply.started": "2024-07-18T11:55:13.080732Z"
    },
    "tags": []
   },
   "outputs": [],
   "source": [
    "lora_node = \"\"\"\n",
    "import torch\n",
    "from peft import LoraConfig, inject_adapter_in_model\n",
    "\n",
    "\n",
    "class LoadKolorsLoRA:\n",
    "    @classmethod\n",
    "    def INPUT_TYPES(s):\n",
    "        return {\n",
    "            \"required\": {\n",
    "                \"kolors_model\": (\"KOLORSMODEL\", ),\n",
    "                \"lora_path\": (\"STRING\", {\"multiline\": False, \"default\": \"\",}),\n",
    "                \"lora_alpha\": (\"FLOAT\", {\"default\": 2.0, \"min\": 0.0, \"max\": 4.0, \"step\": 0.01}),\n",
    "            },\n",
    "        }\n",
    "\n",
    "    RETURN_TYPES = (\"KOLORSMODEL\",)\n",
    "    RETURN_NAMES = (\"kolors_model\",)\n",
    "    FUNCTION = \"add_lora\"\n",
    "    CATEGORY = \"KwaiKolorsWrapper\"\n",
    "\n",
    "    def convert_state_dict(self, state_dict):\n",
    "        prefix_rename_dict = {\n",
    "            \"blocks.7.transformer_blocks\": \"down_blocks.1.attentions.0.transformer_blocks\",\n",
    "            \"blocks.10.transformer_blocks\": \"down_blocks.1.attentions.1.transformer_blocks\",\n",
    "            \"blocks.15.transformer_blocks\": \"down_blocks.2.attentions.0.transformer_blocks\",\n",
    "            \"blocks.18.transformer_blocks\": \"down_blocks.2.attentions.1.transformer_blocks\",\n",
    "            \"blocks.21.transformer_blocks\": \"mid_block.attentions.0.transformer_blocks\",\n",
    "            \"blocks.25.transformer_blocks\": \"up_blocks.0.attentions.0.transformer_blocks\",\n",
    "            \"blocks.28.transformer_blocks\": \"up_blocks.0.attentions.1.transformer_blocks\",\n",
    "            \"blocks.31.transformer_blocks\": \"up_blocks.0.attentions.2.transformer_blocks\",\n",
    "            \"blocks.35.transformer_blocks\": \"up_blocks.1.attentions.0.transformer_blocks\",\n",
    "            \"blocks.38.transformer_blocks\": \"up_blocks.1.attentions.1.transformer_blocks\",\n",
    "            \"blocks.41.transformer_blocks\": \"up_blocks.1.attentions.2.transformer_blocks\",\n",
    "        }\n",
    "        suffix_rename_dict = {\n",
    "            \".to_out.lora_A.default.weight\": \".to_out.0.lora_A.default.weight\",\n",
    "            \".to_out.lora_B.default.weight\": \".to_out.0.lora_B.default.weight\",\n",
    "        }\n",
    "        state_dict_ = {}\n",
    "        for name, param in state_dict.items():\n",
    "            for prefix in prefix_rename_dict:\n",
    "                if name.startswith(prefix):\n",
    "                    name = name.replace(prefix, prefix_rename_dict[prefix])\n",
    "            for suffix in suffix_rename_dict:\n",
    "                if name.endswith(suffix):\n",
    "                    name = name.replace(suffix, suffix_rename_dict[suffix])\n",
    "            state_dict_[name] = param\n",
    "        lora_rank = state_dict_[\"up_blocks.1.attentions.2.transformer_blocks.1.attn2.to_q.lora_A.default.weight\"].shape[0]\n",
    "        return state_dict_, lora_rank\n",
    "\n",
    "    def load_lora(self, model, lora_rank, lora_alpha, state_dict):\n",
    "        lora_config = LoraConfig(\n",
    "            r=lora_rank,\n",
    "            lora_alpha=lora_alpha,\n",
    "            init_lora_weights=\"gaussian\",\n",
    "            target_modules=[\"to_q\", \"to_k\", \"to_v\", \"to_out.0\"],\n",
    "        )\n",
    "        model = inject_adapter_in_model(lora_config, model)\n",
    "        model.load_state_dict(state_dict, strict=False)\n",
    "        return model\n",
    "\n",
    "    def add_lora(self, kolors_model, lora_path, lora_alpha):\n",
    "        state_dict = torch.load(lora_path, map_location=\"cpu\")\n",
    "        state_dict, lora_rank = self.convert_state_dict(state_dict)\n",
    "        kolors_model[\"pipeline\"].unet = self.load_lora(kolors_model[\"pipeline\"].unet, lora_rank, lora_alpha, state_dict)\n",
    "        return (kolors_model,)\n",
    "\n",
    "\n",
    "NODE_CLASS_MAPPINGS = {\n",
    "    \"LoadKolorsLoRA\": LoadKolorsLoRA,\n",
    "}\n",
    "NODE_DISPLAY_NAME_MAPPINGS = {\n",
    "    \"LoadKolorsLoRA\": \"Load Kolors LoRA\",\n",
    "}\n",
    "__all__ = [\"NODE_CLASS_MAPPINGS\", \"NODE_DISPLAY_NAME_MAPPINGS\"]\n",
    "\"\"\".strip()\n",
    "\n",
    "import os\n",
    "\n",
    "os.makedirs(\"/mnt/workspace/ComfyUI/custom_nodes/ComfyUI-LoRA\", exist_ok=True)\n",
    "with open(\"/mnt/workspace/ComfyUI/custom_nodes/ComfyUI-LoRA/__init__.py\", \"w\", encoding=\"utf-8\") as f:\n",
    "    f.write(lora_node)"
   ]
  },
  {
   "cell_type": "markdown",
   "id": "4e022dbd-d9df-49ba-8865-0e1d3a778483",
   "metadata": {},
   "source": [
    "启动 ComfyUI\n",
    "\n",
    "* 启动后，通过代码输出的链接查看 UI 页面\n",
    "* 点击右侧“Load”，加载“kolors_example.json”（不带 LoRA）或者 “kolors_with_lora_example.json”（带 LoRA）\n",
    "* 加载 LoRA 时，请在“lora_path”处填入 LoRA 模型的路径，例如 `/mnt/workspace/models/lightning_logs/version_0/checkpoints/epoch=0-step=500.ckpt`"
   ]
  },
  {
   "cell_type": "code",
   "execution_count": null,
   "id": "16495a5d-d3bf-4c5c-8b4e-d32c1b054890",
   "metadata": {
    "tags": []
   },
   "outputs": [],
   "source": [
    "%cd /mnt/workspace/ComfyUI\n",
    "import subprocess\n",
    "import threading\n",
    "import time\n",
    "import socket\n",
    "import urllib.request\n",
    "\n",
    "def iframe_thread(port):\n",
    "  while True:\n",
    "      time.sleep(0.5)\n",
    "      sock = socket.socket(socket.AF_INET, socket.SOCK_STREAM)\n",
    "      result = sock.connect_ex(('127.0.0.1', port))\n",
    "      if result == 0:\n",
    "        break\n",
    "      sock.close()\n",
    "  print(\"\\nComfyUI finished loading, trying to launch cloudflared (if it gets stuck here cloudflared is having issues)\\n\")\n",
    "\n",
    "  p = subprocess.Popen([\"cloudflared\", \"tunnel\", \"--url\", \"http://127.0.0.1:{}\".format(port)], stdout=subprocess.PIPE, stderr=subprocess.PIPE)\n",
    "  for line in p.stderr:\n",
    "    l = line.decode()\n",
    "    if \"trycloudflare.com \" in l:\n",
    "      print(\"This is the URL to access ComfyUI:\", l[l.find(\"http\"):], end='')\n",
    "    #print(l, end='')\n",
    "\n",
    "\n",
    "threading.Thread(target=iframe_thread, daemon=True, args=(8188,)).start()\n",
    "\n",
    "!python main.py --dont-print-server"
   ]
  }
 ],
 "metadata": {
  "kernelspec": {
   "display_name": "Python 3 (ipykernel)",
   "language": "python",
   "name": "python3"
  },
  "language_info": {
   "codemirror_mode": {
    "name": "ipython",
    "version": 3
   },
   "file_extension": ".py",
   "mimetype": "text/x-python",
   "name": "python",
   "nbconvert_exporter": "python",
   "pygments_lexer": "ipython3",
   "version": "3.10.14"
  }
 },
 "nbformat": 4,
 "nbformat_minor": 5
}
