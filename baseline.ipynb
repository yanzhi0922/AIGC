{
 "cells": [
  {
   "cell_type": "markdown",
   "id": "cf267f10-c18a-493e-ac7f-b928b4eb30a1",
   "metadata": {},
   "source": [
    "# LoRA 样例脚本\n",
    "\n",
    "## 第一步：安装\n",
    "\n",
    "安装 Data-Juicer 和 DiffSynth-Studio"
   ]
  },
  {
   "cell_type": "code",
   "execution_count": 1,
   "id": "bb954bbe-9ae1-4d3f-89a5-c6b732c0ff21",
   "metadata": {
    "ExecutionIndicator": {
     "show": true
    },
    "execution": {
     "iopub.execute_input": "2024-10-24T14:43:43.685182Z",
     "iopub.status.busy": "2024-10-24T14:43:43.684757Z",
     "iopub.status.idle": "2024-10-24T14:43:43.690198Z",
     "shell.execute_reply": "2024-10-24T14:43:43.689596Z",
     "shell.execute_reply.started": "2024-10-24T14:43:43.685158Z"
    },
    "scrolled": true,
    "tags": []
   },
   "outputs": [],
   "source": [
    "import os"
   ]
  },
  {
   "cell_type": "code",
   "execution_count": 2,
   "id": "34cef1b6",
   "metadata": {
    "execution": {
     "iopub.execute_input": "2024-10-24T14:43:45.182071Z",
     "iopub.status.busy": "2024-10-24T14:43:45.181735Z",
     "iopub.status.idle": "2024-10-24T14:43:47.212155Z",
     "shell.execute_reply": "2024-10-24T14:43:47.211534Z",
     "shell.execute_reply.started": "2024-10-24T14:43:45.182051Z"
    },
    "tags": []
   },
   "outputs": [
    {
     "name": "stdout",
     "output_type": "stream",
     "text": [
      "Looking in indexes: https://mirrors.cloud.aliyuncs.com/pypi/simple\n",
      "Requirement already satisfied: nlpaug in /usr/local/lib/python3.10/site-packages (1.1.11)\n",
      "Requirement already satisfied: numpy>=1.16.2 in /usr/local/lib/python3.10/site-packages (from nlpaug) (1.26.3)\n",
      "Requirement already satisfied: pandas>=1.2.0 in /usr/local/lib/python3.10/site-packages (from nlpaug) (2.0.3)\n",
      "Requirement already satisfied: requests>=2.22.0 in /usr/local/lib/python3.10/site-packages (from nlpaug) (2.32.3)\n",
      "Requirement already satisfied: gdown>=4.0.0 in /usr/local/lib/python3.10/site-packages (from nlpaug) (5.2.0)\n",
      "Requirement already satisfied: beautifulsoup4 in /usr/local/lib/python3.10/site-packages (from gdown>=4.0.0->nlpaug) (4.12.3)\n",
      "Requirement already satisfied: filelock in /usr/local/lib/python3.10/site-packages (from gdown>=4.0.0->nlpaug) (3.14.0)\n",
      "Requirement already satisfied: tqdm in /usr/local/lib/python3.10/site-packages (from gdown>=4.0.0->nlpaug) (4.66.4)\n",
      "Requirement already satisfied: python-dateutil>=2.8.2 in /usr/local/lib/python3.10/site-packages (from pandas>=1.2.0->nlpaug) (2.9.0.post0)\n",
      "Requirement already satisfied: pytz>=2020.1 in /usr/local/lib/python3.10/site-packages (from pandas>=1.2.0->nlpaug) (2024.1)\n",
      "Requirement already satisfied: tzdata>=2022.1 in /usr/local/lib/python3.10/site-packages (from pandas>=1.2.0->nlpaug) (2024.1)\n",
      "Requirement already satisfied: charset-normalizer<4,>=2 in /usr/local/lib/python3.10/site-packages (from requests>=2.22.0->nlpaug) (3.3.2)\n",
      "Requirement already satisfied: idna<4,>=2.5 in /usr/local/lib/python3.10/site-packages (from requests>=2.22.0->nlpaug) (3.7)\n",
      "Requirement already satisfied: urllib3<3,>=1.21.1 in /usr/local/lib/python3.10/site-packages (from requests>=2.22.0->nlpaug) (2.2.1)\n",
      "Requirement already satisfied: certifi>=2017.4.17 in /usr/local/lib/python3.10/site-packages (from requests>=2.22.0->nlpaug) (2024.2.2)\n",
      "Requirement already satisfied: six>=1.5 in /usr/local/lib/python3.10/site-packages (from python-dateutil>=2.8.2->pandas>=1.2.0->nlpaug) (1.16.0)\n",
      "Requirement already satisfied: soupsieve>1.2 in /usr/local/lib/python3.10/site-packages (from beautifulsoup4->gdown>=4.0.0->nlpaug) (2.5)\n",
      "Requirement already satisfied: PySocks!=1.5.7,>=1.5.6 in /usr/local/lib/python3.10/site-packages (from requests[socks]->gdown>=4.0.0->nlpaug) (1.7.1)\n",
      "\u001b[33mWARNING: Running pip as the 'root' user can result in broken permissions and conflicting behaviour with the system package manager, possibly rendering your system unusable.It is recommended to use a virtual environment instead: https://pip.pypa.io/warnings/venv. Use the --root-user-action option if you know what you are doing and want to suppress this warning.\u001b[0m\u001b[33m\n",
      "\u001b[0m"
     ]
    }
   ],
   "source": [
    "!pip install nlpaug"
   ]
  },
  {
   "cell_type": "code",
   "execution_count": 3,
   "id": "df14cbc5-5ad5-46e2-9271-23fa800fb60b",
   "metadata": {
    "execution": {
     "iopub.execute_input": "2024-10-24T14:43:49.299996Z",
     "iopub.status.busy": "2024-10-24T14:43:49.299629Z",
     "iopub.status.idle": "2024-10-24T14:43:53.474517Z",
     "shell.execute_reply": "2024-10-24T14:43:53.473913Z",
     "shell.execute_reply.started": "2024-10-24T14:43:49.299974Z"
    },
    "tags": []
   },
   "outputs": [
    {
     "name": "stdout",
     "output_type": "stream",
     "text": [
      "Looking in indexes: https://mirrors.cloud.aliyuncs.com/pypi/simple\n",
      "Requirement already satisfied: pip in /usr/local/lib/python3.10/site-packages (24.2)\n",
      "\u001b[33mWARNING: Running pip as the 'root' user can result in broken permissions and conflicting behaviour with the system package manager, possibly rendering your system unusable.It is recommended to use a virtual environment instead: https://pip.pypa.io/warnings/venv. Use the --root-user-action option if you know what you are doing and want to suppress this warning.\u001b[0m\u001b[33m\n",
      "\u001b[0mLooking in indexes: https://mirrors.cloud.aliyuncs.com/pypi/simple\n",
      "Requirement already satisfied: timm==0.5.4 in /usr/local/lib/python3.10/site-packages (0.5.4)\n",
      "Requirement already satisfied: torch>=1.4 in /usr/local/lib/python3.10/site-packages (from timm==0.5.4) (2.3.0)\n",
      "Requirement already satisfied: torchvision in /usr/local/lib/python3.10/site-packages (from timm==0.5.4) (0.18.0)\n",
      "Requirement already satisfied: filelock in /usr/local/lib/python3.10/site-packages (from torch>=1.4->timm==0.5.4) (3.14.0)\n",
      "Requirement already satisfied: typing-extensions>=4.8.0 in /usr/local/lib/python3.10/site-packages (from torch>=1.4->timm==0.5.4) (4.12.0)\n",
      "Requirement already satisfied: sympy in /usr/local/lib/python3.10/site-packages (from torch>=1.4->timm==0.5.4) (1.12.1)\n",
      "Requirement already satisfied: networkx in /usr/local/lib/python3.10/site-packages (from torch>=1.4->timm==0.5.4) (3.3)\n",
      "Requirement already satisfied: jinja2 in /usr/local/lib/python3.10/site-packages (from torch>=1.4->timm==0.5.4) (3.1.4)\n",
      "Requirement already satisfied: fsspec in /usr/local/lib/python3.10/site-packages (from torch>=1.4->timm==0.5.4) (2023.5.0)\n",
      "Requirement already satisfied: nvidia-cuda-nvrtc-cu12==12.1.105 in /usr/local/lib/python3.10/site-packages (from torch>=1.4->timm==0.5.4) (12.1.105)\n",
      "Requirement already satisfied: nvidia-cuda-runtime-cu12==12.1.105 in /usr/local/lib/python3.10/site-packages (from torch>=1.4->timm==0.5.4) (12.1.105)\n",
      "Requirement already satisfied: nvidia-cuda-cupti-cu12==12.1.105 in /usr/local/lib/python3.10/site-packages (from torch>=1.4->timm==0.5.4) (12.1.105)\n",
      "Requirement already satisfied: nvidia-cudnn-cu12==8.9.2.26 in /usr/local/lib/python3.10/site-packages (from torch>=1.4->timm==0.5.4) (8.9.2.26)\n",
      "Requirement already satisfied: nvidia-cublas-cu12==12.1.3.1 in /usr/local/lib/python3.10/site-packages (from torch>=1.4->timm==0.5.4) (12.1.3.1)\n",
      "Requirement already satisfied: nvidia-cufft-cu12==11.0.2.54 in /usr/local/lib/python3.10/site-packages (from torch>=1.4->timm==0.5.4) (11.0.2.54)\n",
      "Requirement already satisfied: nvidia-curand-cu12==10.3.2.106 in /usr/local/lib/python3.10/site-packages (from torch>=1.4->timm==0.5.4) (10.3.2.106)\n",
      "Requirement already satisfied: nvidia-cusolver-cu12==11.4.5.107 in /usr/local/lib/python3.10/site-packages (from torch>=1.4->timm==0.5.4) (11.4.5.107)\n",
      "Requirement already satisfied: nvidia-cusparse-cu12==12.1.0.106 in /usr/local/lib/python3.10/site-packages (from torch>=1.4->timm==0.5.4) (12.1.0.106)\n",
      "Requirement already satisfied: nvidia-nccl-cu12==2.20.5 in /usr/local/lib/python3.10/site-packages (from torch>=1.4->timm==0.5.4) (2.20.5)\n",
      "Requirement already satisfied: nvidia-nvtx-cu12==12.1.105 in /usr/local/lib/python3.10/site-packages (from torch>=1.4->timm==0.5.4) (12.1.105)\n",
      "Requirement already satisfied: triton==2.3.0 in /usr/local/lib/python3.10/site-packages (from torch>=1.4->timm==0.5.4) (2.3.0)\n",
      "Requirement already satisfied: nvidia-nvjitlink-cu12 in /usr/local/lib/python3.10/site-packages (from nvidia-cusolver-cu12==11.4.5.107->torch>=1.4->timm==0.5.4) (12.6.68)\n",
      "Requirement already satisfied: numpy in /usr/local/lib/python3.10/site-packages (from torchvision->timm==0.5.4) (1.26.3)\n",
      "Requirement already satisfied: pillow!=8.3.*,>=5.3.0 in /usr/local/lib/python3.10/site-packages (from torchvision->timm==0.5.4) (10.2.0)\n",
      "Requirement already satisfied: MarkupSafe>=2.0 in /usr/local/lib/python3.10/site-packages (from jinja2->torch>=1.4->timm==0.5.4) (2.1.5)\n",
      "Requirement already satisfied: mpmath<1.4.0,>=1.1.0 in /usr/local/lib/python3.10/site-packages (from sympy->torch>=1.4->timm==0.5.4) (1.3.0)\n",
      "\u001b[33mWARNING: Running pip as the 'root' user can result in broken permissions and conflicting behaviour with the system package manager, possibly rendering your system unusable.It is recommended to use a virtual environment instead: https://pip.pypa.io/warnings/venv. Use the --root-user-action option if you know what you are doing and want to suppress this warning.\u001b[0m\u001b[33m\n",
      "\u001b[0m"
     ]
    }
   ],
   "source": [
    "!pip install --upgrade pip\n",
    "!pip install timm==0.5.4"
   ]
  },
  {
   "cell_type": "code",
   "execution_count": 4,
   "id": "07c1c94a",
   "metadata": {
    "execution": {
     "iopub.execute_input": "2024-10-24T14:44:00.132208Z",
     "iopub.status.busy": "2024-10-24T14:44:00.131866Z",
     "iopub.status.idle": "2024-10-24T14:44:02.193055Z",
     "shell.execute_reply": "2024-10-24T14:44:02.192438Z",
     "shell.execute_reply.started": "2024-10-24T14:44:00.132187Z"
    },
    "tags": []
   },
   "outputs": [
    {
     "name": "stdout",
     "output_type": "stream",
     "text": [
      "Looking in indexes: https://mirrors.cloud.aliyuncs.com/pypi/simple\n",
      "Requirement already satisfied: simple-aesthetics-predictor in /usr/local/lib/python3.10/site-packages (0.1.2)\n",
      "Requirement already satisfied: torch>=1.0 in /usr/local/lib/python3.10/site-packages (from simple-aesthetics-predictor) (2.3.0)\n",
      "Requirement already satisfied: torchvision>=0.2.1 in /usr/local/lib/python3.10/site-packages (from simple-aesthetics-predictor) (0.18.0)\n",
      "Requirement already satisfied: transformers<5.0.0,>=4.30.2 in /usr/local/lib/python3.10/site-packages (from simple-aesthetics-predictor) (4.44.1)\n",
      "Requirement already satisfied: filelock in /usr/local/lib/python3.10/site-packages (from torch>=1.0->simple-aesthetics-predictor) (3.14.0)\n",
      "Requirement already satisfied: typing-extensions>=4.8.0 in /usr/local/lib/python3.10/site-packages (from torch>=1.0->simple-aesthetics-predictor) (4.12.0)\n",
      "Requirement already satisfied: sympy in /usr/local/lib/python3.10/site-packages (from torch>=1.0->simple-aesthetics-predictor) (1.12.1)\n",
      "Requirement already satisfied: networkx in /usr/local/lib/python3.10/site-packages (from torch>=1.0->simple-aesthetics-predictor) (3.3)\n",
      "Requirement already satisfied: jinja2 in /usr/local/lib/python3.10/site-packages (from torch>=1.0->simple-aesthetics-predictor) (3.1.4)\n",
      "Requirement already satisfied: fsspec in /usr/local/lib/python3.10/site-packages (from torch>=1.0->simple-aesthetics-predictor) (2023.5.0)\n",
      "Requirement already satisfied: nvidia-cuda-nvrtc-cu12==12.1.105 in /usr/local/lib/python3.10/site-packages (from torch>=1.0->simple-aesthetics-predictor) (12.1.105)\n",
      "Requirement already satisfied: nvidia-cuda-runtime-cu12==12.1.105 in /usr/local/lib/python3.10/site-packages (from torch>=1.0->simple-aesthetics-predictor) (12.1.105)\n",
      "Requirement already satisfied: nvidia-cuda-cupti-cu12==12.1.105 in /usr/local/lib/python3.10/site-packages (from torch>=1.0->simple-aesthetics-predictor) (12.1.105)\n",
      "Requirement already satisfied: nvidia-cudnn-cu12==8.9.2.26 in /usr/local/lib/python3.10/site-packages (from torch>=1.0->simple-aesthetics-predictor) (8.9.2.26)\n",
      "Requirement already satisfied: nvidia-cublas-cu12==12.1.3.1 in /usr/local/lib/python3.10/site-packages (from torch>=1.0->simple-aesthetics-predictor) (12.1.3.1)\n",
      "Requirement already satisfied: nvidia-cufft-cu12==11.0.2.54 in /usr/local/lib/python3.10/site-packages (from torch>=1.0->simple-aesthetics-predictor) (11.0.2.54)\n",
      "Requirement already satisfied: nvidia-curand-cu12==10.3.2.106 in /usr/local/lib/python3.10/site-packages (from torch>=1.0->simple-aesthetics-predictor) (10.3.2.106)\n",
      "Requirement already satisfied: nvidia-cusolver-cu12==11.4.5.107 in /usr/local/lib/python3.10/site-packages (from torch>=1.0->simple-aesthetics-predictor) (11.4.5.107)\n",
      "Requirement already satisfied: nvidia-cusparse-cu12==12.1.0.106 in /usr/local/lib/python3.10/site-packages (from torch>=1.0->simple-aesthetics-predictor) (12.1.0.106)\n",
      "Requirement already satisfied: nvidia-nccl-cu12==2.20.5 in /usr/local/lib/python3.10/site-packages (from torch>=1.0->simple-aesthetics-predictor) (2.20.5)\n",
      "Requirement already satisfied: nvidia-nvtx-cu12==12.1.105 in /usr/local/lib/python3.10/site-packages (from torch>=1.0->simple-aesthetics-predictor) (12.1.105)\n",
      "Requirement already satisfied: triton==2.3.0 in /usr/local/lib/python3.10/site-packages (from torch>=1.0->simple-aesthetics-predictor) (2.3.0)\n",
      "Requirement already satisfied: nvidia-nvjitlink-cu12 in /usr/local/lib/python3.10/site-packages (from nvidia-cusolver-cu12==11.4.5.107->torch>=1.0->simple-aesthetics-predictor) (12.6.68)\n",
      "Requirement already satisfied: numpy in /usr/local/lib/python3.10/site-packages (from torchvision>=0.2.1->simple-aesthetics-predictor) (1.26.3)\n",
      "Requirement already satisfied: pillow!=8.3.*,>=5.3.0 in /usr/local/lib/python3.10/site-packages (from torchvision>=0.2.1->simple-aesthetics-predictor) (10.2.0)\n",
      "Requirement already satisfied: huggingface-hub<1.0,>=0.23.2 in /usr/local/lib/python3.10/site-packages (from transformers<5.0.0,>=4.30.2->simple-aesthetics-predictor) (0.24.2)\n",
      "Requirement already satisfied: packaging>=20.0 in /usr/local/lib/python3.10/site-packages (from transformers<5.0.0,>=4.30.2->simple-aesthetics-predictor) (24.0)\n",
      "Requirement already satisfied: pyyaml>=5.1 in /usr/local/lib/python3.10/site-packages (from transformers<5.0.0,>=4.30.2->simple-aesthetics-predictor) (6.0.1)\n",
      "Requirement already satisfied: regex!=2019.12.17 in /usr/local/lib/python3.10/site-packages (from transformers<5.0.0,>=4.30.2->simple-aesthetics-predictor) (2024.5.15)\n",
      "Requirement already satisfied: requests in /usr/local/lib/python3.10/site-packages (from transformers<5.0.0,>=4.30.2->simple-aesthetics-predictor) (2.32.3)\n",
      "Requirement already satisfied: safetensors>=0.4.1 in /usr/local/lib/python3.10/site-packages (from transformers<5.0.0,>=4.30.2->simple-aesthetics-predictor) (0.4.3)\n",
      "Requirement already satisfied: tokenizers<0.20,>=0.19 in /usr/local/lib/python3.10/site-packages (from transformers<5.0.0,>=4.30.2->simple-aesthetics-predictor) (0.19.1)\n",
      "Requirement already satisfied: tqdm>=4.27 in /usr/local/lib/python3.10/site-packages (from transformers<5.0.0,>=4.30.2->simple-aesthetics-predictor) (4.66.4)\n",
      "Requirement already satisfied: MarkupSafe>=2.0 in /usr/local/lib/python3.10/site-packages (from jinja2->torch>=1.0->simple-aesthetics-predictor) (2.1.5)\n",
      "Requirement already satisfied: charset-normalizer<4,>=2 in /usr/local/lib/python3.10/site-packages (from requests->transformers<5.0.0,>=4.30.2->simple-aesthetics-predictor) (3.3.2)\n",
      "Requirement already satisfied: idna<4,>=2.5 in /usr/local/lib/python3.10/site-packages (from requests->transformers<5.0.0,>=4.30.2->simple-aesthetics-predictor) (3.7)\n",
      "Requirement already satisfied: urllib3<3,>=1.21.1 in /usr/local/lib/python3.10/site-packages (from requests->transformers<5.0.0,>=4.30.2->simple-aesthetics-predictor) (2.2.1)\n",
      "Requirement already satisfied: certifi>=2017.4.17 in /usr/local/lib/python3.10/site-packages (from requests->transformers<5.0.0,>=4.30.2->simple-aesthetics-predictor) (2024.2.2)\n",
      "Requirement already satisfied: mpmath<1.4.0,>=1.1.0 in /usr/local/lib/python3.10/site-packages (from sympy->torch>=1.0->simple-aesthetics-predictor) (1.3.0)\n",
      "\u001b[33mWARNING: Running pip as the 'root' user can result in broken permissions and conflicting behaviour with the system package manager, possibly rendering your system unusable.It is recommended to use a virtual environment instead: https://pip.pypa.io/warnings/venv. Use the --root-user-action option if you know what you are doing and want to suppress this warning.\u001b[0m\u001b[33m\n",
      "\u001b[0m"
     ]
    }
   ],
   "source": [
    "!pip install simple-aesthetics-predictor"
   ]
  },
  {
   "cell_type": "code",
   "execution_count": 5,
   "id": "5f0050f1",
   "metadata": {
    "execution": {
     "iopub.execute_input": "2024-10-24T14:44:05.464064Z",
     "iopub.status.busy": "2024-10-24T14:44:05.463556Z",
     "iopub.status.idle": "2024-10-24T14:44:05.628813Z",
     "shell.execute_reply": "2024-10-24T14:44:05.628261Z",
     "shell.execute_reply.started": "2024-10-24T14:44:05.464042Z"
    },
    "tags": []
   },
   "outputs": [
    {
     "name": "stdout",
     "output_type": "stream",
     "text": [
      "fatal: 目标路径 'data-juicer' 已经存在，并且不是一个空目录。\n"
     ]
    }
   ],
   "source": [
    "!git clone https://github.com/modelscope/data-juicer.git"
   ]
  },
  {
   "cell_type": "code",
   "execution_count": 6,
   "id": "b10ab123",
   "metadata": {
    "execution": {
     "iopub.execute_input": "2024-10-24T14:44:09.148970Z",
     "iopub.status.busy": "2024-10-24T14:44:09.148609Z",
     "iopub.status.idle": "2024-10-24T14:44:13.066431Z",
     "shell.execute_reply": "2024-10-24T14:44:13.065803Z",
     "shell.execute_reply.started": "2024-10-24T14:44:09.148948Z"
    },
    "tags": []
   },
   "outputs": [
    {
     "name": "stdout",
     "output_type": "stream",
     "text": [
      "Using pip 24.2 from /usr/local/lib/python3.10/site-packages/pip (python 3.10)\n",
      "Looking in indexes: https://mirrors.cloud.aliyuncs.com/pypi/simple\n",
      "Obtaining file:///mnt/workspace/data-juicer\n",
      "  Running command python setup.py egg_info\n",
      "  running egg_info\n",
      "  creating /tmp/pip-pip-egg-info-ssq4_cis/py_data_juicer.egg-info\n",
      "  writing /tmp/pip-pip-egg-info-ssq4_cis/py_data_juicer.egg-info/PKG-INFO\n",
      "  writing dependency_links to /tmp/pip-pip-egg-info-ssq4_cis/py_data_juicer.egg-info/dependency_links.txt\n",
      "  writing entry points to /tmp/pip-pip-egg-info-ssq4_cis/py_data_juicer.egg-info/entry_points.txt\n",
      "  writing requirements to /tmp/pip-pip-egg-info-ssq4_cis/py_data_juicer.egg-info/requires.txt\n",
      "  writing top-level names to /tmp/pip-pip-egg-info-ssq4_cis/py_data_juicer.egg-info/top_level.txt\n",
      "  writing manifest file '/tmp/pip-pip-egg-info-ssq4_cis/py_data_juicer.egg-info/SOURCES.txt'\n",
      "  reading manifest file '/tmp/pip-pip-egg-info-ssq4_cis/py_data_juicer.egg-info/SOURCES.txt'\n",
      "  adding license file 'LICENSE'\n",
      "  writing manifest file '/tmp/pip-pip-egg-info-ssq4_cis/py_data_juicer.egg-info/SOURCES.txt'\n",
      "  Preparing metadata (setup.py) ... \u001b[?25l\u001b[?25hdone\n",
      "Requirement already satisfied: fsspec==2023.5.0 in /usr/local/lib/python3.10/site-packages (from py-data-juicer==0.2.0) (2023.5.0)\n",
      "Requirement already satisfied: pyarrow<=12.0.0 in /usr/local/lib/python3.10/site-packages (from py-data-juicer==0.2.0) (12.0.0)\n",
      "Requirement already satisfied: pandas==2.0.3 in /usr/local/lib/python3.10/site-packages (from py-data-juicer==0.2.0) (2.0.3)\n",
      "Requirement already satisfied: datasets>=2.19.0 in /usr/local/lib/python3.10/site-packages (from py-data-juicer==0.2.0) (2.19.2)\n",
      "Requirement already satisfied: av in /usr/local/lib/python3.10/site-packages (from py-data-juicer==0.2.0) (12.3.0)\n",
      "Requirement already satisfied: soundfile in /usr/local/lib/python3.10/site-packages (from py-data-juicer==0.2.0) (0.12.1)\n",
      "Requirement already satisfied: librosa>=0.10 in /usr/local/lib/python3.10/site-packages (from py-data-juicer==0.2.0) (0.10.2.post1)\n",
      "Requirement already satisfied: loguru in /usr/local/lib/python3.10/site-packages (from py-data-juicer==0.2.0) (0.7.2)\n",
      "Requirement already satisfied: tabulate in /usr/local/lib/python3.10/site-packages (from py-data-juicer==0.2.0) (0.9.0)\n",
      "Requirement already satisfied: tqdm in /usr/local/lib/python3.10/site-packages (from py-data-juicer==0.2.0) (4.66.4)\n",
      "Requirement already satisfied: jsonargparse[signatures] in /usr/local/lib/python3.10/site-packages (from py-data-juicer==0.2.0) (4.33.2)\n",
      "Requirement already satisfied: matplotlib in /usr/local/lib/python3.10/site-packages (from py-data-juicer==0.2.0) (3.9.0)\n",
      "Requirement already satisfied: seaborn in /usr/local/lib/python3.10/site-packages (from py-data-juicer==0.2.0) (0.13.2)\n",
      "Requirement already satisfied: emoji==2.2.0 in /usr/local/lib/python3.10/site-packages (from py-data-juicer==0.2.0) (2.2.0)\n",
      "Requirement already satisfied: regex in /usr/local/lib/python3.10/site-packages (from py-data-juicer==0.2.0) (2024.5.15)\n",
      "Requirement already satisfied: requests in /usr/local/lib/python3.10/site-packages (from py-data-juicer==0.2.0) (2.32.3)\n",
      "Requirement already satisfied: wget in /usr/local/lib/python3.10/site-packages (from py-data-juicer==0.2.0) (3.2)\n",
      "Requirement already satisfied: zstandard in /usr/local/lib/python3.10/site-packages (from py-data-juicer==0.2.0) (0.23.0)\n",
      "Requirement already satisfied: lz4 in /usr/local/lib/python3.10/site-packages (from py-data-juicer==0.2.0) (4.3.3)\n",
      "Requirement already satisfied: pdfplumber in /usr/local/lib/python3.10/site-packages (from py-data-juicer==0.2.0) (0.11.4)\n",
      "Requirement already satisfied: plotly in /usr/local/lib/python3.10/site-packages (from py-data-juicer==0.2.0) (5.23.0)\n",
      "Requirement already satisfied: python-docx in /usr/local/lib/python3.10/site-packages (from py-data-juicer==0.2.0) (1.1.2)\n",
      "Requirement already satisfied: streamlit in /usr/local/lib/python3.10/site-packages (from py-data-juicer==0.2.0) (1.39.0)\n",
      "Requirement already satisfied: spacy==3.7.0 in /usr/local/lib/python3.10/site-packages (from py-data-juicer==0.2.0) (3.7.0)\n",
      "Requirement already satisfied: multiprocess==0.70.12 in /usr/local/lib/python3.10/site-packages (from py-data-juicer==0.2.0) (0.70.12)\n",
      "Requirement already satisfied: dill==0.3.4 in /usr/local/lib/python3.10/site-packages (from py-data-juicer==0.2.0) (0.3.4)\n",
      "Requirement already satisfied: psutil in /usr/local/lib/python3.10/site-packages (from py-data-juicer==0.2.0) (5.9.8)\n",
      "Requirement already satisfied: pydantic>=2.0 in /usr/local/lib/python3.10/site-packages (from py-data-juicer==0.2.0) (2.7.4)\n",
      "Requirement already satisfied: Pillow in /usr/local/lib/python3.10/site-packages (from py-data-juicer==0.2.0) (10.2.0)\n",
      "Requirement already satisfied: python-dateutil>=2.8.2 in /usr/local/lib/python3.10/site-packages (from pandas==2.0.3->py-data-juicer==0.2.0) (2.9.0.post0)\n",
      "Requirement already satisfied: pytz>=2020.1 in /usr/local/lib/python3.10/site-packages (from pandas==2.0.3->py-data-juicer==0.2.0) (2024.1)\n",
      "Requirement already satisfied: tzdata>=2022.1 in /usr/local/lib/python3.10/site-packages (from pandas==2.0.3->py-data-juicer==0.2.0) (2024.1)\n",
      "Requirement already satisfied: numpy>=1.21.0 in /usr/local/lib/python3.10/site-packages (from pandas==2.0.3->py-data-juicer==0.2.0) (1.26.3)\n",
      "Requirement already satisfied: spacy-legacy<3.1.0,>=3.0.11 in /usr/local/lib/python3.10/site-packages (from spacy==3.7.0->py-data-juicer==0.2.0) (3.0.12)\n",
      "Requirement already satisfied: spacy-loggers<2.0.0,>=1.0.0 in /usr/local/lib/python3.10/site-packages (from spacy==3.7.0->py-data-juicer==0.2.0) (1.0.5)\n",
      "Requirement already satisfied: murmurhash<1.1.0,>=0.28.0 in /usr/local/lib/python3.10/site-packages (from spacy==3.7.0->py-data-juicer==0.2.0) (1.0.10)\n",
      "Requirement already satisfied: cymem<2.1.0,>=2.0.2 in /usr/local/lib/python3.10/site-packages (from spacy==3.7.0->py-data-juicer==0.2.0) (2.0.8)\n",
      "Requirement already satisfied: preshed<3.1.0,>=3.0.2 in /usr/local/lib/python3.10/site-packages (from spacy==3.7.0->py-data-juicer==0.2.0) (3.0.9)\n",
      "Requirement already satisfied: thinc<8.3.0,>=8.1.8 in /usr/local/lib/python3.10/site-packages (from spacy==3.7.0->py-data-juicer==0.2.0) (8.2.5)\n",
      "Requirement already satisfied: wasabi<1.2.0,>=0.9.1 in /usr/local/lib/python3.10/site-packages (from spacy==3.7.0->py-data-juicer==0.2.0) (1.1.3)\n",
      "Requirement already satisfied: srsly<3.0.0,>=2.4.3 in /usr/local/lib/python3.10/site-packages (from spacy==3.7.0->py-data-juicer==0.2.0) (2.4.8)\n",
      "Requirement already satisfied: catalogue<2.1.0,>=2.0.6 in /usr/local/lib/python3.10/site-packages (from spacy==3.7.0->py-data-juicer==0.2.0) (2.0.10)\n",
      "Requirement already satisfied: weasel<0.4.0,>=0.1.0 in /usr/local/lib/python3.10/site-packages (from spacy==3.7.0->py-data-juicer==0.2.0) (0.3.4)\n",
      "Requirement already satisfied: typer<0.10.0,>=0.3.0 in /usr/local/lib/python3.10/site-packages (from spacy==3.7.0->py-data-juicer==0.2.0) (0.9.4)\n",
      "Requirement already satisfied: pathy>=0.10.0 in /usr/local/lib/python3.10/site-packages (from spacy==3.7.0->py-data-juicer==0.2.0) (0.11.0)\n",
      "Requirement already satisfied: smart-open<7.0.0,>=5.2.1 in /usr/local/lib/python3.10/site-packages (from spacy==3.7.0->py-data-juicer==0.2.0) (6.4.0)\n",
      "Requirement already satisfied: jinja2 in /usr/local/lib/python3.10/site-packages (from spacy==3.7.0->py-data-juicer==0.2.0) (3.1.4)\n",
      "Requirement already satisfied: setuptools in /usr/local/lib/python3.10/site-packages (from spacy==3.7.0->py-data-juicer==0.2.0) (69.5.1)\n",
      "Requirement already satisfied: packaging>=20.0 in /usr/local/lib/python3.10/site-packages (from spacy==3.7.0->py-data-juicer==0.2.0) (24.0)\n",
      "Requirement already satisfied: langcodes<4.0.0,>=3.2.0 in /usr/local/lib/python3.10/site-packages (from spacy==3.7.0->py-data-juicer==0.2.0) (3.4.0)\n",
      "Requirement already satisfied: filelock in /usr/local/lib/python3.10/site-packages (from datasets>=2.19.0->py-data-juicer==0.2.0) (3.14.0)\n",
      "Requirement already satisfied: pyarrow-hotfix in /usr/local/lib/python3.10/site-packages (from datasets>=2.19.0->py-data-juicer==0.2.0) (0.6)\n",
      "Requirement already satisfied: xxhash in /usr/local/lib/python3.10/site-packages (from datasets>=2.19.0->py-data-juicer==0.2.0) (3.4.1)\n",
      "Requirement already satisfied: aiohttp in /usr/local/lib/python3.10/site-packages (from datasets>=2.19.0->py-data-juicer==0.2.0) (3.9.5)\n",
      "Requirement already satisfied: huggingface-hub>=0.21.2 in /usr/local/lib/python3.10/site-packages (from datasets>=2.19.0->py-data-juicer==0.2.0) (0.24.2)\n",
      "Requirement already satisfied: pyyaml>=5.1 in /usr/local/lib/python3.10/site-packages (from datasets>=2.19.0->py-data-juicer==0.2.0) (6.0.1)\n",
      "Requirement already satisfied: audioread>=2.1.9 in /usr/local/lib/python3.10/site-packages (from librosa>=0.10->py-data-juicer==0.2.0) (3.0.1)\n",
      "Requirement already satisfied: scipy>=1.2.0 in /usr/local/lib/python3.10/site-packages (from librosa>=0.10->py-data-juicer==0.2.0) (1.12.0)\n",
      "Requirement already satisfied: scikit-learn>=0.20.0 in /usr/local/lib/python3.10/site-packages (from librosa>=0.10->py-data-juicer==0.2.0) (1.5.0)\n",
      "Requirement already satisfied: joblib>=0.14 in /usr/local/lib/python3.10/site-packages (from librosa>=0.10->py-data-juicer==0.2.0) (1.4.2)\n",
      "Requirement already satisfied: decorator>=4.3.0 in /usr/local/lib/python3.10/site-packages (from librosa>=0.10->py-data-juicer==0.2.0) (4.4.2)\n",
      "Requirement already satisfied: numba>=0.51.0 in /usr/local/lib/python3.10/site-packages (from librosa>=0.10->py-data-juicer==0.2.0) (0.60.0)\n",
      "Requirement already satisfied: pooch>=1.1 in /usr/local/lib/python3.10/site-packages (from librosa>=0.10->py-data-juicer==0.2.0) (1.8.2)\n",
      "Requirement already satisfied: soxr>=0.3.2 in /usr/local/lib/python3.10/site-packages (from librosa>=0.10->py-data-juicer==0.2.0) (0.4.0)\n",
      "Requirement already satisfied: typing-extensions>=4.1.1 in /usr/local/lib/python3.10/site-packages (from librosa>=0.10->py-data-juicer==0.2.0) (4.12.0)\n",
      "Requirement already satisfied: lazy-loader>=0.1 in /usr/local/lib/python3.10/site-packages (from librosa>=0.10->py-data-juicer==0.2.0) (0.4)\n",
      "Requirement already satisfied: msgpack>=1.0 in /usr/local/lib/python3.10/site-packages (from librosa>=0.10->py-data-juicer==0.2.0) (1.0.8)\n",
      "Requirement already satisfied: annotated-types>=0.4.0 in /usr/local/lib/python3.10/site-packages (from pydantic>=2.0->py-data-juicer==0.2.0) (0.7.0)\n",
      "Requirement already satisfied: pydantic-core==2.18.4 in /usr/local/lib/python3.10/site-packages (from pydantic>=2.0->py-data-juicer==0.2.0) (2.18.4)\n",
      "Requirement already satisfied: charset-normalizer<4,>=2 in /usr/local/lib/python3.10/site-packages (from requests->py-data-juicer==0.2.0) (3.3.2)\n",
      "Requirement already satisfied: idna<4,>=2.5 in /usr/local/lib/python3.10/site-packages (from requests->py-data-juicer==0.2.0) (3.7)\n",
      "Requirement already satisfied: urllib3<3,>=1.21.1 in /usr/local/lib/python3.10/site-packages (from requests->py-data-juicer==0.2.0) (2.2.1)\n",
      "Requirement already satisfied: certifi>=2017.4.17 in /usr/local/lib/python3.10/site-packages (from requests->py-data-juicer==0.2.0) (2024.2.2)\n",
      "Requirement already satisfied: cffi>=1.0 in /usr/local/lib/python3.10/site-packages (from soundfile->py-data-juicer==0.2.0) (1.16.0)\n",
      "Requirement already satisfied: docstring-parser>=0.15 in /usr/local/lib/python3.10/site-packages (from jsonargparse[signatures]->py-data-juicer==0.2.0) (0.16)\n",
      "Requirement already satisfied: typeshed-client>=2.1.0 in /usr/local/lib/python3.10/site-packages (from jsonargparse[signatures]->py-data-juicer==0.2.0) (2.7.0)\n",
      "Requirement already satisfied: contourpy>=1.0.1 in /usr/local/lib/python3.10/site-packages (from matplotlib->py-data-juicer==0.2.0) (1.2.1)\n",
      "Requirement already satisfied: cycler>=0.10 in /usr/local/lib/python3.10/site-packages (from matplotlib->py-data-juicer==0.2.0) (0.12.1)\n",
      "Requirement already satisfied: fonttools>=4.22.0 in /usr/local/lib/python3.10/site-packages (from matplotlib->py-data-juicer==0.2.0) (4.53.0)\n",
      "Requirement already satisfied: kiwisolver>=1.3.1 in /usr/local/lib/python3.10/site-packages (from matplotlib->py-data-juicer==0.2.0) (1.4.5)\n",
      "Requirement already satisfied: pyparsing>=2.3.1 in /usr/local/lib/python3.10/site-packages (from matplotlib->py-data-juicer==0.2.0) (3.1.2)\n",
      "Requirement already satisfied: pdfminer.six==20231228 in /usr/local/lib/python3.10/site-packages (from pdfplumber->py-data-juicer==0.2.0) (20231228)\n",
      "Requirement already satisfied: pypdfium2>=4.18.0 in /usr/local/lib/python3.10/site-packages (from pdfplumber->py-data-juicer==0.2.0) (4.30.0)\n",
      "Requirement already satisfied: cryptography>=36.0.0 in /usr/local/lib/python3.10/site-packages (from pdfminer.six==20231228->pdfplumber->py-data-juicer==0.2.0) (43.0.0)\n",
      "Requirement already satisfied: tenacity>=6.2.0 in /usr/local/lib/python3.10/site-packages (from plotly->py-data-juicer==0.2.0) (8.5.0)\n",
      "Requirement already satisfied: lxml>=3.1.0 in /usr/local/lib/python3.10/site-packages (from python-docx->py-data-juicer==0.2.0) (4.9.4)\n",
      "Requirement already satisfied: altair<6,>=4.0 in /usr/local/lib/python3.10/site-packages (from streamlit->py-data-juicer==0.2.0) (5.4.1)\n",
      "Requirement already satisfied: blinker<2,>=1.0.0 in /usr/local/lib/python3.10/site-packages (from streamlit->py-data-juicer==0.2.0) (1.8.2)\n",
      "Requirement already satisfied: cachetools<6,>=4.0 in /usr/local/lib/python3.10/site-packages (from streamlit->py-data-juicer==0.2.0) (5.4.0)\n",
      "Requirement already satisfied: click<9,>=7.0 in /usr/local/lib/python3.10/site-packages (from streamlit->py-data-juicer==0.2.0) (8.1.7)\n",
      "Requirement already satisfied: protobuf<6,>=3.20 in /usr/local/lib/python3.10/site-packages (from streamlit->py-data-juicer==0.2.0) (3.20.3)\n",
      "Requirement already satisfied: rich<14,>=10.14.0 in /usr/local/lib/python3.10/site-packages (from streamlit->py-data-juicer==0.2.0) (13.7.1)\n",
      "Requirement already satisfied: toml<2,>=0.10.1 in /usr/local/lib/python3.10/site-packages (from streamlit->py-data-juicer==0.2.0) (0.10.2)\n",
      "Requirement already satisfied: gitpython!=3.1.19,<4,>=3.0.7 in /usr/local/lib/python3.10/site-packages (from streamlit->py-data-juicer==0.2.0) (3.1.43)\n",
      "Requirement already satisfied: pydeck<1,>=0.8.0b4 in /usr/local/lib/python3.10/site-packages (from streamlit->py-data-juicer==0.2.0) (0.9.1)\n",
      "Requirement already satisfied: tornado<7,>=6.0.3 in /usr/local/lib/python3.10/site-packages (from streamlit->py-data-juicer==0.2.0) (6.4.1)\n",
      "Requirement already satisfied: watchdog<6,>=2.1.5 in /usr/local/lib/python3.10/site-packages (from streamlit->py-data-juicer==0.2.0) (5.0.3)\n",
      "Requirement already satisfied: jsonschema>=3.0 in /usr/local/lib/python3.10/site-packages (from altair<6,>=4.0->streamlit->py-data-juicer==0.2.0) (4.23.0)\n",
      "Requirement already satisfied: narwhals>=1.5.2 in /usr/local/lib/python3.10/site-packages (from altair<6,>=4.0->streamlit->py-data-juicer==0.2.0) (1.10.0)\n",
      "Requirement already satisfied: pycparser in /usr/local/lib/python3.10/site-packages (from cffi>=1.0->soundfile->py-data-juicer==0.2.0) (2.22)\n",
      "Requirement already satisfied: aiosignal>=1.1.2 in /usr/local/lib/python3.10/site-packages (from aiohttp->datasets>=2.19.0->py-data-juicer==0.2.0) (1.3.1)\n",
      "Requirement already satisfied: attrs>=17.3.0 in /usr/local/lib/python3.10/site-packages (from aiohttp->datasets>=2.19.0->py-data-juicer==0.2.0) (23.2.0)\n",
      "Requirement already satisfied: frozenlist>=1.1.1 in /usr/local/lib/python3.10/site-packages (from aiohttp->datasets>=2.19.0->py-data-juicer==0.2.0) (1.4.1)\n",
      "Requirement already satisfied: multidict<7.0,>=4.5 in /usr/local/lib/python3.10/site-packages (from aiohttp->datasets>=2.19.0->py-data-juicer==0.2.0) (6.0.5)\n",
      "Requirement already satisfied: yarl<2.0,>=1.0 in /usr/local/lib/python3.10/site-packages (from aiohttp->datasets>=2.19.0->py-data-juicer==0.2.0) (1.9.4)\n",
      "Requirement already satisfied: async-timeout<5.0,>=4.0 in /usr/local/lib/python3.10/site-packages (from aiohttp->datasets>=2.19.0->py-data-juicer==0.2.0) (4.0.3)\n",
      "Requirement already satisfied: gitdb<5,>=4.0.1 in /usr/local/lib/python3.10/site-packages (from gitpython!=3.1.19,<4,>=3.0.7->streamlit->py-data-juicer==0.2.0) (4.0.11)\n",
      "Requirement already satisfied: language-data>=1.2 in /usr/local/lib/python3.10/site-packages (from langcodes<4.0.0,>=3.2.0->spacy==3.7.0->py-data-juicer==0.2.0) (1.2.0)\n",
      "Requirement already satisfied: llvmlite<0.44,>=0.43.0dev0 in /usr/local/lib/python3.10/site-packages (from numba>=0.51.0->librosa>=0.10->py-data-juicer==0.2.0) (0.43.0)\n",
      "Requirement already satisfied: pathlib-abc==0.1.1 in /usr/local/lib/python3.10/site-packages (from pathy>=0.10.0->spacy==3.7.0->py-data-juicer==0.2.0) (0.1.1)\n",
      "Requirement already satisfied: platformdirs>=2.5.0 in /usr/local/lib/python3.10/site-packages (from pooch>=1.1->librosa>=0.10->py-data-juicer==0.2.0) (4.2.2)\n",
      "Requirement already satisfied: MarkupSafe>=2.0 in /usr/local/lib/python3.10/site-packages (from jinja2->spacy==3.7.0->py-data-juicer==0.2.0) (2.1.5)\n",
      "Requirement already satisfied: six>=1.5 in /usr/local/lib/python3.10/site-packages (from python-dateutil>=2.8.2->pandas==2.0.3->py-data-juicer==0.2.0) (1.16.0)\n",
      "Requirement already satisfied: markdown-it-py>=2.2.0 in /usr/local/lib/python3.10/site-packages (from rich<14,>=10.14.0->streamlit->py-data-juicer==0.2.0) (3.0.0)\n",
      "Requirement already satisfied: pygments<3.0.0,>=2.13.0 in /usr/local/lib/python3.10/site-packages (from rich<14,>=10.14.0->streamlit->py-data-juicer==0.2.0) (2.18.0)\n",
      "Requirement already satisfied: threadpoolctl>=3.1.0 in /usr/local/lib/python3.10/site-packages (from scikit-learn>=0.20.0->librosa>=0.10->py-data-juicer==0.2.0) (3.5.0)\n",
      "Requirement already satisfied: blis<0.8.0,>=0.7.8 in /usr/local/lib/python3.10/site-packages (from thinc<8.3.0,>=8.1.8->spacy==3.7.0->py-data-juicer==0.2.0) (0.7.11)\n",
      "Requirement already satisfied: confection<1.0.0,>=0.0.1 in /usr/local/lib/python3.10/site-packages (from thinc<8.3.0,>=8.1.8->spacy==3.7.0->py-data-juicer==0.2.0) (0.1.5)\n",
      "Requirement already satisfied: importlib-resources>=1.4.0 in /usr/local/lib/python3.10/site-packages (from typeshed-client>=2.1.0->jsonargparse[signatures]->py-data-juicer==0.2.0) (6.4.5)\n",
      "Requirement already satisfied: cloudpathlib<0.17.0,>=0.7.0 in /usr/local/lib/python3.10/site-packages (from weasel<0.4.0,>=0.1.0->spacy==3.7.0->py-data-juicer==0.2.0) (0.16.0)\n",
      "Requirement already satisfied: smmap<6,>=3.0.1 in /usr/local/lib/python3.10/site-packages (from gitdb<5,>=4.0.1->gitpython!=3.1.19,<4,>=3.0.7->streamlit->py-data-juicer==0.2.0) (5.0.1)\n",
      "Requirement already satisfied: jsonschema-specifications>=2023.03.6 in /usr/local/lib/python3.10/site-packages (from jsonschema>=3.0->altair<6,>=4.0->streamlit->py-data-juicer==0.2.0) (2023.12.1)\n",
      "Requirement already satisfied: referencing>=0.28.4 in /usr/local/lib/python3.10/site-packages (from jsonschema>=3.0->altair<6,>=4.0->streamlit->py-data-juicer==0.2.0) (0.35.1)\n",
      "Requirement already satisfied: rpds-py>=0.7.1 in /usr/local/lib/python3.10/site-packages (from jsonschema>=3.0->altair<6,>=4.0->streamlit->py-data-juicer==0.2.0) (0.19.1)\n",
      "Requirement already satisfied: marisa-trie>=0.7.7 in /usr/local/lib/python3.10/site-packages (from language-data>=1.2->langcodes<4.0.0,>=3.2.0->spacy==3.7.0->py-data-juicer==0.2.0) (1.2.0)\n",
      "Requirement already satisfied: mdurl~=0.1 in /usr/local/lib/python3.10/site-packages (from markdown-it-py>=2.2.0->rich<14,>=10.14.0->streamlit->py-data-juicer==0.2.0) (0.1.2)\n",
      "Installing collected packages: py-data-juicer\n",
      "  Attempting uninstall: py-data-juicer\n",
      "    Found existing installation: py-data-juicer 0.2.0\n",
      "    Uninstalling py-data-juicer-0.2.0:\n",
      "      Removing file or directory /usr/local/bin/dj-analyze\n",
      "      Removing file or directory /usr/local/bin/dj-process\n",
      "      Removing file or directory /usr/local/lib/python3.10/site-packages/py-data-juicer.egg-link\n",
      "      Removing pth entries from /usr/local/lib/python3.10/site-packages/easy-install.pth:\n",
      "      Removing entry: /mnt/workspace/data-juicer\n",
      "      Successfully uninstalled py-data-juicer-0.2.0\n",
      "\u001b[33m  DEPRECATION: Legacy editable install of py-data-juicer==0.2.0 from file:///mnt/workspace/data-juicer (setup.py develop) is deprecated. pip 25.0 will enforce this behaviour change. A possible replacement is to add a pyproject.toml or enable --use-pep517, and use setuptools >= 64. If the resulting installation is not behaving as expected, try using --config-settings editable_mode=compat. Please consult the setuptools documentation for more information. Discussion can be found at https://github.com/pypa/pip/issues/11457\u001b[0m\u001b[33m\n",
      "\u001b[0m  Running setup.py develop for py-data-juicer\n",
      "    Running command python setup.py develop\n",
      "    running develop\n",
      "    /usr/local/lib/python3.10/site-packages/setuptools/command/develop.py:40: EasyInstallDeprecationWarning: easy_install command is deprecated.\n",
      "    !!\n",
      "\n",
      "            ********************************************************************************\n",
      "            Please avoid running ``setup.py`` and ``easy_install``.\n",
      "            Instead, use pypa/build, pypa/installer or other\n",
      "            standards-based tools.\n",
      "\n",
      "            See https://github.com/pypa/setuptools/issues/917 for details.\n",
      "            ********************************************************************************\n",
      "\n",
      "    !!\n",
      "      easy_install.initialize_options(self)\n",
      "    /usr/local/lib/python3.10/distutils/cmd.py:62: SetuptoolsDeprecationWarning: setup.py install is deprecated.\n",
      "    !!\n",
      "\n",
      "            ********************************************************************************\n",
      "            Please avoid running ``setup.py`` directly.\n",
      "            Instead, use pypa/build, pypa/installer or other\n",
      "            standards-based tools.\n",
      "\n",
      "            See https://blog.ganssle.io/articles/2021/10/setup-py-deprecated.html for details.\n",
      "            ********************************************************************************\n",
      "\n",
      "    !!\n",
      "      self.initialize_options()\n",
      "    running egg_info\n",
      "    writing py_data_juicer.egg-info/PKG-INFO\n",
      "    writing dependency_links to py_data_juicer.egg-info/dependency_links.txt\n",
      "    writing entry points to py_data_juicer.egg-info/entry_points.txt\n",
      "    writing requirements to py_data_juicer.egg-info/requires.txt\n",
      "    writing top-level names to py_data_juicer.egg-info/top_level.txt\n",
      "    reading manifest file 'py_data_juicer.egg-info/SOURCES.txt'\n",
      "    adding license file 'LICENSE'\n",
      "    writing manifest file 'py_data_juicer.egg-info/SOURCES.txt'\n",
      "    running build_ext\n",
      "    Creating /usr/local/lib/python3.10/site-packages/py-data-juicer.egg-link (link to .)\n",
      "    Adding py-data-juicer 0.2.0 to easy-install.pth file\n",
      "    Installing dj-analyze script to /usr/local/bin\n",
      "    Installing dj-process script to /usr/local/bin\n",
      "\n",
      "    Installed /mnt/workspace/data-juicer\n",
      "Successfully installed py-data-juicer\n",
      "\u001b[33mWARNING: Running pip as the 'root' user can result in broken permissions and conflicting behaviour with the system package manager, possibly rendering your system unusable.It is recommended to use a virtual environment instead: https://pip.pypa.io/warnings/venv. Use the --root-user-action option if you know what you are doing and want to suppress this warning.\u001b[0m\u001b[33m\n",
      "\u001b[0m"
     ]
    }
   ],
   "source": [
    "!pip install -v -e data-juicer"
   ]
  },
  {
   "cell_type": "code",
   "execution_count": 7,
   "id": "29d66487",
   "metadata": {
    "execution": {
     "iopub.execute_input": "2024-10-24T14:44:18.514805Z",
     "iopub.status.busy": "2024-10-24T14:44:18.514468Z",
     "iopub.status.idle": "2024-10-24T14:44:19.130403Z",
     "shell.execute_reply": "2024-10-24T14:44:19.129829Z",
     "shell.execute_reply.started": "2024-10-24T14:44:18.514783Z"
    },
    "tags": []
   },
   "outputs": [
    {
     "name": "stdout",
     "output_type": "stream",
     "text": [
      "Found existing installation: pytorch-lightning 2.4.0\n",
      "Uninstalling pytorch-lightning-2.4.0:\n",
      "  Successfully uninstalled pytorch-lightning-2.4.0\n",
      "\u001b[33mWARNING: Running pip as the 'root' user can result in broken permissions and conflicting behaviour with the system package manager, possibly rendering your system unusable.It is recommended to use a virtual environment instead: https://pip.pypa.io/warnings/venv. Use the --root-user-action option if you know what you are doing and want to suppress this warning.\u001b[0m\u001b[33m\n",
      "\u001b[0m"
     ]
    }
   ],
   "source": [
    "!pip uninstall pytorch-lightning -y"
   ]
  },
  {
   "cell_type": "code",
   "execution_count": 8,
   "id": "44df94c2",
   "metadata": {
    "execution": {
     "iopub.execute_input": "2024-10-24T14:44:22.208890Z",
     "iopub.status.busy": "2024-10-24T14:44:22.208555Z",
     "iopub.status.idle": "2024-10-24T14:44:24.683423Z",
     "shell.execute_reply": "2024-10-24T14:44:24.682852Z",
     "shell.execute_reply.started": "2024-10-24T14:44:22.208870Z"
    },
    "tags": []
   },
   "outputs": [
    {
     "name": "stdout",
     "output_type": "stream",
     "text": [
      "Looking in indexes: https://mirrors.cloud.aliyuncs.com/pypi/simple\n",
      "Requirement already satisfied: peft in /usr/local/lib/python3.10/site-packages (0.12.0)\n",
      "Requirement already satisfied: lightning in /usr/local/lib/python3.10/site-packages (2.4.0)\n",
      "Requirement already satisfied: pandas in /usr/local/lib/python3.10/site-packages (2.0.3)\n",
      "Requirement already satisfied: torchvision in /usr/local/lib/python3.10/site-packages (0.18.0)\n",
      "Requirement already satisfied: numpy>=1.17 in /usr/local/lib/python3.10/site-packages (from peft) (1.26.3)\n",
      "Requirement already satisfied: packaging>=20.0 in /usr/local/lib/python3.10/site-packages (from peft) (24.0)\n",
      "Requirement already satisfied: psutil in /usr/local/lib/python3.10/site-packages (from peft) (5.9.8)\n",
      "Requirement already satisfied: pyyaml in /usr/local/lib/python3.10/site-packages (from peft) (6.0.1)\n",
      "Requirement already satisfied: torch>=1.13.0 in /usr/local/lib/python3.10/site-packages (from peft) (2.3.0)\n",
      "Requirement already satisfied: transformers in /usr/local/lib/python3.10/site-packages (from peft) (4.44.1)\n",
      "Requirement already satisfied: tqdm in /usr/local/lib/python3.10/site-packages (from peft) (4.66.4)\n",
      "Requirement already satisfied: accelerate>=0.21.0 in /usr/local/lib/python3.10/site-packages (from peft) (0.33.0)\n",
      "Requirement already satisfied: safetensors in /usr/local/lib/python3.10/site-packages (from peft) (0.4.3)\n",
      "Requirement already satisfied: huggingface-hub>=0.17.0 in /usr/local/lib/python3.10/site-packages (from peft) (0.24.2)\n",
      "Requirement already satisfied: fsspec<2026.0,>=2022.5.0 in /usr/local/lib/python3.10/site-packages (from fsspec[http]<2026.0,>=2022.5.0->lightning) (2023.5.0)\n",
      "Requirement already satisfied: lightning-utilities<2.0,>=0.10.0 in /usr/local/lib/python3.10/site-packages (from lightning) (0.11.6)\n",
      "Requirement already satisfied: torchmetrics<3.0,>=0.7.0 in /usr/local/lib/python3.10/site-packages (from lightning) (0.11.4)\n",
      "Requirement already satisfied: typing-extensions<6.0,>=4.4.0 in /usr/local/lib/python3.10/site-packages (from lightning) (4.12.0)\n",
      "Collecting pytorch-lightning (from lightning)\n",
      "  Using cached https://mirrors.cloud.aliyuncs.com/pypi/packages/2b/d2/ecd65ff1e0b1ca79f9785dd65d5ced7ec2643a828068aaa24e47e4c84a14/pytorch_lightning-2.4.0-py3-none-any.whl (815 kB)\n",
      "Requirement already satisfied: python-dateutil>=2.8.2 in /usr/local/lib/python3.10/site-packages (from pandas) (2.9.0.post0)\n",
      "Requirement already satisfied: pytz>=2020.1 in /usr/local/lib/python3.10/site-packages (from pandas) (2024.1)\n",
      "Requirement already satisfied: tzdata>=2022.1 in /usr/local/lib/python3.10/site-packages (from pandas) (2024.1)\n",
      "Requirement already satisfied: pillow!=8.3.*,>=5.3.0 in /usr/local/lib/python3.10/site-packages (from torchvision) (10.2.0)\n",
      "Requirement already satisfied: filelock in /usr/local/lib/python3.10/site-packages (from torch>=1.13.0->peft) (3.14.0)\n",
      "Requirement already satisfied: sympy in /usr/local/lib/python3.10/site-packages (from torch>=1.13.0->peft) (1.12.1)\n",
      "Requirement already satisfied: networkx in /usr/local/lib/python3.10/site-packages (from torch>=1.13.0->peft) (3.3)\n",
      "Requirement already satisfied: jinja2 in /usr/local/lib/python3.10/site-packages (from torch>=1.13.0->peft) (3.1.4)\n",
      "Requirement already satisfied: nvidia-cuda-nvrtc-cu12==12.1.105 in /usr/local/lib/python3.10/site-packages (from torch>=1.13.0->peft) (12.1.105)\n",
      "Requirement already satisfied: nvidia-cuda-runtime-cu12==12.1.105 in /usr/local/lib/python3.10/site-packages (from torch>=1.13.0->peft) (12.1.105)\n",
      "Requirement already satisfied: nvidia-cuda-cupti-cu12==12.1.105 in /usr/local/lib/python3.10/site-packages (from torch>=1.13.0->peft) (12.1.105)\n",
      "Requirement already satisfied: nvidia-cudnn-cu12==8.9.2.26 in /usr/local/lib/python3.10/site-packages (from torch>=1.13.0->peft) (8.9.2.26)\n",
      "Requirement already satisfied: nvidia-cublas-cu12==12.1.3.1 in /usr/local/lib/python3.10/site-packages (from torch>=1.13.0->peft) (12.1.3.1)\n",
      "Requirement already satisfied: nvidia-cufft-cu12==11.0.2.54 in /usr/local/lib/python3.10/site-packages (from torch>=1.13.0->peft) (11.0.2.54)\n",
      "Requirement already satisfied: nvidia-curand-cu12==10.3.2.106 in /usr/local/lib/python3.10/site-packages (from torch>=1.13.0->peft) (10.3.2.106)\n",
      "Requirement already satisfied: nvidia-cusolver-cu12==11.4.5.107 in /usr/local/lib/python3.10/site-packages (from torch>=1.13.0->peft) (11.4.5.107)\n",
      "Requirement already satisfied: nvidia-cusparse-cu12==12.1.0.106 in /usr/local/lib/python3.10/site-packages (from torch>=1.13.0->peft) (12.1.0.106)\n",
      "Requirement already satisfied: nvidia-nccl-cu12==2.20.5 in /usr/local/lib/python3.10/site-packages (from torch>=1.13.0->peft) (2.20.5)\n",
      "Requirement already satisfied: nvidia-nvtx-cu12==12.1.105 in /usr/local/lib/python3.10/site-packages (from torch>=1.13.0->peft) (12.1.105)\n",
      "Requirement already satisfied: triton==2.3.0 in /usr/local/lib/python3.10/site-packages (from torch>=1.13.0->peft) (2.3.0)\n",
      "Requirement already satisfied: nvidia-nvjitlink-cu12 in /usr/local/lib/python3.10/site-packages (from nvidia-cusolver-cu12==11.4.5.107->torch>=1.13.0->peft) (12.6.68)\n",
      "Requirement already satisfied: requests in /usr/local/lib/python3.10/site-packages (from fsspec[http]<2026.0,>=2022.5.0->lightning) (2.32.3)\n",
      "Requirement already satisfied: aiohttp!=4.0.0a0,!=4.0.0a1 in /usr/local/lib/python3.10/site-packages (from fsspec[http]<2026.0,>=2022.5.0->lightning) (3.9.5)\n",
      "Requirement already satisfied: setuptools in /usr/local/lib/python3.10/site-packages (from lightning-utilities<2.0,>=0.10.0->lightning) (69.5.1)\n",
      "Requirement already satisfied: six>=1.5 in /usr/local/lib/python3.10/site-packages (from python-dateutil>=2.8.2->pandas) (1.16.0)\n",
      "Requirement already satisfied: regex!=2019.12.17 in /usr/local/lib/python3.10/site-packages (from transformers->peft) (2024.5.15)\n",
      "Requirement already satisfied: tokenizers<0.20,>=0.19 in /usr/local/lib/python3.10/site-packages (from transformers->peft) (0.19.1)\n",
      "Requirement already satisfied: aiosignal>=1.1.2 in /usr/local/lib/python3.10/site-packages (from aiohttp!=4.0.0a0,!=4.0.0a1->fsspec[http]<2026.0,>=2022.5.0->lightning) (1.3.1)\n",
      "Requirement already satisfied: attrs>=17.3.0 in /usr/local/lib/python3.10/site-packages (from aiohttp!=4.0.0a0,!=4.0.0a1->fsspec[http]<2026.0,>=2022.5.0->lightning) (23.2.0)\n",
      "Requirement already satisfied: frozenlist>=1.1.1 in /usr/local/lib/python3.10/site-packages (from aiohttp!=4.0.0a0,!=4.0.0a1->fsspec[http]<2026.0,>=2022.5.0->lightning) (1.4.1)\n",
      "Requirement already satisfied: multidict<7.0,>=4.5 in /usr/local/lib/python3.10/site-packages (from aiohttp!=4.0.0a0,!=4.0.0a1->fsspec[http]<2026.0,>=2022.5.0->lightning) (6.0.5)\n",
      "Requirement already satisfied: yarl<2.0,>=1.0 in /usr/local/lib/python3.10/site-packages (from aiohttp!=4.0.0a0,!=4.0.0a1->fsspec[http]<2026.0,>=2022.5.0->lightning) (1.9.4)\n",
      "Requirement already satisfied: async-timeout<5.0,>=4.0 in /usr/local/lib/python3.10/site-packages (from aiohttp!=4.0.0a0,!=4.0.0a1->fsspec[http]<2026.0,>=2022.5.0->lightning) (4.0.3)\n",
      "Requirement already satisfied: MarkupSafe>=2.0 in /usr/local/lib/python3.10/site-packages (from jinja2->torch>=1.13.0->peft) (2.1.5)\n",
      "Requirement already satisfied: charset-normalizer<4,>=2 in /usr/local/lib/python3.10/site-packages (from requests->fsspec[http]<2026.0,>=2022.5.0->lightning) (3.3.2)\n",
      "Requirement already satisfied: idna<4,>=2.5 in /usr/local/lib/python3.10/site-packages (from requests->fsspec[http]<2026.0,>=2022.5.0->lightning) (3.7)\n",
      "Requirement already satisfied: urllib3<3,>=1.21.1 in /usr/local/lib/python3.10/site-packages (from requests->fsspec[http]<2026.0,>=2022.5.0->lightning) (2.2.1)\n",
      "Requirement already satisfied: certifi>=2017.4.17 in /usr/local/lib/python3.10/site-packages (from requests->fsspec[http]<2026.0,>=2022.5.0->lightning) (2024.2.2)\n",
      "Requirement already satisfied: mpmath<1.4.0,>=1.1.0 in /usr/local/lib/python3.10/site-packages (from sympy->torch>=1.13.0->peft) (1.3.0)\n",
      "Installing collected packages: pytorch-lightning\n",
      "Successfully installed pytorch-lightning-2.4.0\n",
      "\u001b[33mWARNING: Running pip as the 'root' user can result in broken permissions and conflicting behaviour with the system package manager, possibly rendering your system unusable.It is recommended to use a virtual environment instead: https://pip.pypa.io/warnings/venv. Use the --root-user-action option if you know what you are doing and want to suppress this warning.\u001b[0m\u001b[33m\n",
      "\u001b[0m"
     ]
    }
   ],
   "source": [
    "!pip install peft lightning pandas torchvision"
   ]
  },
  {
   "cell_type": "code",
   "execution_count": 9,
   "id": "b58af4db",
   "metadata": {
    "execution": {
     "iopub.execute_input": "2024-10-24T14:44:26.446420Z",
     "iopub.status.busy": "2024-10-24T14:44:26.446082Z",
     "iopub.status.idle": "2024-10-24T14:44:26.613864Z",
     "shell.execute_reply": "2024-10-24T14:44:26.613200Z",
     "shell.execute_reply.started": "2024-10-24T14:44:26.446399Z"
    },
    "tags": []
   },
   "outputs": [
    {
     "name": "stdout",
     "output_type": "stream",
     "text": [
      "fatal: 目标路径 'DiffSynth-Studio' 已经存在，并且不是一个空目录。\n"
     ]
    }
   ],
   "source": [
    "!git clone https://github.com/modelscope/DiffSynth-Studio.git"
   ]
  },
  {
   "cell_type": "code",
   "execution_count": 10,
   "id": "b421c4c6",
   "metadata": {
    "execution": {
     "iopub.execute_input": "2024-10-24T14:44:28.581586Z",
     "iopub.status.busy": "2024-10-24T14:44:28.581213Z",
     "iopub.status.idle": "2024-10-24T14:44:32.414746Z",
     "shell.execute_reply": "2024-10-24T14:44:32.414204Z",
     "shell.execute_reply.started": "2024-10-24T14:44:28.581559Z"
    },
    "tags": []
   },
   "outputs": [
    {
     "name": "stdout",
     "output_type": "stream",
     "text": [
      "Looking in indexes: https://mirrors.cloud.aliyuncs.com/pypi/simple\n",
      "Obtaining file:///mnt/workspace/DiffSynth-Studio\n",
      "  Preparing metadata (setup.py) ... \u001b[?25ldone\n",
      "\u001b[?25hRequirement already satisfied: torch>=2.0.0 in /usr/local/lib/python3.10/site-packages (from diffsynth==1.0.0) (2.3.0)\n",
      "Requirement already satisfied: cupy-cuda12x in /usr/local/lib/python3.10/site-packages (from diffsynth==1.0.0) (13.3.0)\n",
      "Requirement already satisfied: transformers==4.44.1 in /usr/local/lib/python3.10/site-packages (from diffsynth==1.0.0) (4.44.1)\n",
      "Requirement already satisfied: controlnet-aux==0.0.7 in /usr/local/lib/python3.10/site-packages (from diffsynth==1.0.0) (0.0.7)\n",
      "Requirement already satisfied: imageio in /usr/local/lib/python3.10/site-packages (from diffsynth==1.0.0) (2.34.2)\n",
      "Requirement already satisfied: safetensors in /usr/local/lib/python3.10/site-packages (from diffsynth==1.0.0) (0.4.3)\n",
      "Requirement already satisfied: einops in /usr/local/lib/python3.10/site-packages (from diffsynth==1.0.0) (0.8.0)\n",
      "Requirement already satisfied: sentencepiece in /usr/local/lib/python3.10/site-packages (from diffsynth==1.0.0) (0.2.0)\n",
      "Requirement already satisfied: protobuf in /usr/local/lib/python3.10/site-packages (from diffsynth==1.0.0) (3.20.3)\n",
      "Requirement already satisfied: modelscope in /usr/local/lib/python3.10/site-packages (from diffsynth==1.0.0) (1.18.0)\n",
      "Requirement already satisfied: importlib-metadata in /usr/local/lib/python3.10/site-packages (from controlnet-aux==0.0.7->diffsynth==1.0.0) (7.1.0)\n",
      "Requirement already satisfied: huggingface-hub in /usr/local/lib/python3.10/site-packages (from controlnet-aux==0.0.7->diffsynth==1.0.0) (0.24.2)\n",
      "Requirement already satisfied: scipy in /usr/local/lib/python3.10/site-packages (from controlnet-aux==0.0.7->diffsynth==1.0.0) (1.12.0)\n",
      "Requirement already satisfied: opencv-python in /usr/local/lib/python3.10/site-packages (from controlnet-aux==0.0.7->diffsynth==1.0.0) (4.10.0.84)\n",
      "Requirement already satisfied: filelock in /usr/local/lib/python3.10/site-packages (from controlnet-aux==0.0.7->diffsynth==1.0.0) (3.14.0)\n",
      "Requirement already satisfied: numpy in /usr/local/lib/python3.10/site-packages (from controlnet-aux==0.0.7->diffsynth==1.0.0) (1.26.3)\n",
      "Requirement already satisfied: Pillow in /usr/local/lib/python3.10/site-packages (from controlnet-aux==0.0.7->diffsynth==1.0.0) (10.2.0)\n",
      "Requirement already satisfied: torchvision in /usr/local/lib/python3.10/site-packages (from controlnet-aux==0.0.7->diffsynth==1.0.0) (0.18.0)\n",
      "Requirement already satisfied: timm in /usr/local/lib/python3.10/site-packages (from controlnet-aux==0.0.7->diffsynth==1.0.0) (0.5.4)\n",
      "Requirement already satisfied: scikit-image in /usr/local/lib/python3.10/site-packages (from controlnet-aux==0.0.7->diffsynth==1.0.0) (0.24.0)\n",
      "Requirement already satisfied: packaging>=20.0 in /usr/local/lib/python3.10/site-packages (from transformers==4.44.1->diffsynth==1.0.0) (24.0)\n",
      "Requirement already satisfied: pyyaml>=5.1 in /usr/local/lib/python3.10/site-packages (from transformers==4.44.1->diffsynth==1.0.0) (6.0.1)\n",
      "Requirement already satisfied: regex!=2019.12.17 in /usr/local/lib/python3.10/site-packages (from transformers==4.44.1->diffsynth==1.0.0) (2024.5.15)\n",
      "Requirement already satisfied: requests in /usr/local/lib/python3.10/site-packages (from transformers==4.44.1->diffsynth==1.0.0) (2.32.3)\n",
      "Requirement already satisfied: tokenizers<0.20,>=0.19 in /usr/local/lib/python3.10/site-packages (from transformers==4.44.1->diffsynth==1.0.0) (0.19.1)\n",
      "Requirement already satisfied: tqdm>=4.27 in /usr/local/lib/python3.10/site-packages (from transformers==4.44.1->diffsynth==1.0.0) (4.66.4)\n",
      "Requirement already satisfied: typing-extensions>=4.8.0 in /usr/local/lib/python3.10/site-packages (from torch>=2.0.0->diffsynth==1.0.0) (4.12.0)\n",
      "Requirement already satisfied: sympy in /usr/local/lib/python3.10/site-packages (from torch>=2.0.0->diffsynth==1.0.0) (1.12.1)\n",
      "Requirement already satisfied: networkx in /usr/local/lib/python3.10/site-packages (from torch>=2.0.0->diffsynth==1.0.0) (3.3)\n",
      "Requirement already satisfied: jinja2 in /usr/local/lib/python3.10/site-packages (from torch>=2.0.0->diffsynth==1.0.0) (3.1.4)\n",
      "Requirement already satisfied: fsspec in /usr/local/lib/python3.10/site-packages (from torch>=2.0.0->diffsynth==1.0.0) (2023.5.0)\n",
      "Requirement already satisfied: nvidia-cuda-nvrtc-cu12==12.1.105 in /usr/local/lib/python3.10/site-packages (from torch>=2.0.0->diffsynth==1.0.0) (12.1.105)\n",
      "Requirement already satisfied: nvidia-cuda-runtime-cu12==12.1.105 in /usr/local/lib/python3.10/site-packages (from torch>=2.0.0->diffsynth==1.0.0) (12.1.105)\n",
      "Requirement already satisfied: nvidia-cuda-cupti-cu12==12.1.105 in /usr/local/lib/python3.10/site-packages (from torch>=2.0.0->diffsynth==1.0.0) (12.1.105)\n",
      "Requirement already satisfied: nvidia-cudnn-cu12==8.9.2.26 in /usr/local/lib/python3.10/site-packages (from torch>=2.0.0->diffsynth==1.0.0) (8.9.2.26)\n",
      "Requirement already satisfied: nvidia-cublas-cu12==12.1.3.1 in /usr/local/lib/python3.10/site-packages (from torch>=2.0.0->diffsynth==1.0.0) (12.1.3.1)\n",
      "Requirement already satisfied: nvidia-cufft-cu12==11.0.2.54 in /usr/local/lib/python3.10/site-packages (from torch>=2.0.0->diffsynth==1.0.0) (11.0.2.54)\n",
      "Requirement already satisfied: nvidia-curand-cu12==10.3.2.106 in /usr/local/lib/python3.10/site-packages (from torch>=2.0.0->diffsynth==1.0.0) (10.3.2.106)\n",
      "Requirement already satisfied: nvidia-cusolver-cu12==11.4.5.107 in /usr/local/lib/python3.10/site-packages (from torch>=2.0.0->diffsynth==1.0.0) (11.4.5.107)\n",
      "Requirement already satisfied: nvidia-cusparse-cu12==12.1.0.106 in /usr/local/lib/python3.10/site-packages (from torch>=2.0.0->diffsynth==1.0.0) (12.1.0.106)\n",
      "Requirement already satisfied: nvidia-nccl-cu12==2.20.5 in /usr/local/lib/python3.10/site-packages (from torch>=2.0.0->diffsynth==1.0.0) (2.20.5)\n",
      "Requirement already satisfied: nvidia-nvtx-cu12==12.1.105 in /usr/local/lib/python3.10/site-packages (from torch>=2.0.0->diffsynth==1.0.0) (12.1.105)\n",
      "Requirement already satisfied: triton==2.3.0 in /usr/local/lib/python3.10/site-packages (from torch>=2.0.0->diffsynth==1.0.0) (2.3.0)\n",
      "Requirement already satisfied: nvidia-nvjitlink-cu12 in /usr/local/lib/python3.10/site-packages (from nvidia-cusolver-cu12==11.4.5.107->torch>=2.0.0->diffsynth==1.0.0) (12.6.68)\n",
      "Requirement already satisfied: fastrlock>=0.5 in /usr/local/lib/python3.10/site-packages (from cupy-cuda12x->diffsynth==1.0.0) (0.8.2)\n",
      "Requirement already satisfied: imageio-ffmpeg in /usr/local/lib/python3.10/site-packages (from imageio[ffmpeg]->diffsynth==1.0.0) (0.4.9)\n",
      "Requirement already satisfied: psutil in /usr/local/lib/python3.10/site-packages (from imageio[ffmpeg]->diffsynth==1.0.0) (5.9.8)\n",
      "Requirement already satisfied: urllib3>=1.26 in /usr/local/lib/python3.10/site-packages (from modelscope->diffsynth==1.0.0) (2.2.1)\n",
      "Requirement already satisfied: charset-normalizer<4,>=2 in /usr/local/lib/python3.10/site-packages (from requests->transformers==4.44.1->diffsynth==1.0.0) (3.3.2)\n",
      "Requirement already satisfied: idna<4,>=2.5 in /usr/local/lib/python3.10/site-packages (from requests->transformers==4.44.1->diffsynth==1.0.0) (3.7)\n",
      "Requirement already satisfied: certifi>=2017.4.17 in /usr/local/lib/python3.10/site-packages (from requests->transformers==4.44.1->diffsynth==1.0.0) (2024.2.2)\n",
      "Requirement already satisfied: setuptools in /usr/local/lib/python3.10/site-packages (from imageio-ffmpeg->imageio[ffmpeg]->diffsynth==1.0.0) (69.5.1)\n",
      "Requirement already satisfied: zipp>=0.5 in /usr/local/lib/python3.10/site-packages (from importlib-metadata->controlnet-aux==0.0.7->diffsynth==1.0.0) (3.19.0)\n",
      "Requirement already satisfied: MarkupSafe>=2.0 in /usr/local/lib/python3.10/site-packages (from jinja2->torch>=2.0.0->diffsynth==1.0.0) (2.1.5)\n",
      "Requirement already satisfied: tifffile>=2022.8.12 in /usr/local/lib/python3.10/site-packages (from scikit-image->controlnet-aux==0.0.7->diffsynth==1.0.0) (2024.7.24)\n",
      "Requirement already satisfied: lazy-loader>=0.4 in /usr/local/lib/python3.10/site-packages (from scikit-image->controlnet-aux==0.0.7->diffsynth==1.0.0) (0.4)\n",
      "Requirement already satisfied: mpmath<1.4.0,>=1.1.0 in /usr/local/lib/python3.10/site-packages (from sympy->torch>=2.0.0->diffsynth==1.0.0) (1.3.0)\n",
      "Installing collected packages: diffsynth\n",
      "  Attempting uninstall: diffsynth\n",
      "    Found existing installation: diffsynth 1.0.0\n",
      "    Uninstalling diffsynth-1.0.0:\n",
      "      Successfully uninstalled diffsynth-1.0.0\n",
      "\u001b[33m  DEPRECATION: Legacy editable install of diffsynth==1.0.0 from file:///mnt/workspace/DiffSynth-Studio (setup.py develop) is deprecated. pip 25.0 will enforce this behaviour change. A possible replacement is to add a pyproject.toml or enable --use-pep517, and use setuptools >= 64. If the resulting installation is not behaving as expected, try using --config-settings editable_mode=compat. Please consult the setuptools documentation for more information. Discussion can be found at https://github.com/pypa/pip/issues/11457\u001b[0m\u001b[33m\n",
      "\u001b[0m  Running setup.py develop for diffsynth\n",
      "Successfully installed diffsynth\n",
      "\u001b[33mWARNING: Running pip as the 'root' user can result in broken permissions and conflicting behaviour with the system package manager, possibly rendering your system unusable.It is recommended to use a virtual environment instead: https://pip.pypa.io/warnings/venv. Use the --root-user-action option if you know what you are doing and want to suppress this warning.\u001b[0m\u001b[33m\n",
      "\u001b[0m"
     ]
    }
   ],
   "source": [
    "!pip install -e DiffSynth-Studio"
   ]
  },
  {
   "cell_type": "markdown",
   "id": "5f4ef1b9-ca7e-45b1-a9a2-530051f6c29a",
   "metadata": {
    "execution": {
     "iopub.execute_input": "2024-07-18T06:48:35.021311Z",
     "iopub.status.busy": "2024-07-18T06:48:35.020950Z",
     "iopub.status.idle": "2024-07-18T06:48:35.024752Z",
     "shell.execute_reply": "2024-07-18T06:48:35.023979Z",
     "shell.execute_reply.started": "2024-07-18T06:48:35.021289Z"
    }
   },
   "source": [
    "# 请在这里手动重启 Notebook kernel"
   ]
  },
  {
   "cell_type": "markdown",
   "id": "48f8d0db-14b1-4dec-a488-7e7132c82620",
   "metadata": {},
   "source": [
    "## 第二步：下载数据集"
   ]
  },
  {
   "cell_type": "code",
   "execution_count": 11,
   "id": "85067966-237e-4c1c-9e71-1381101a3fc7",
   "metadata": {
    "ExecutionIndicator": {
     "show": true
    },
    "execution": {
     "iopub.execute_input": "2024-10-24T14:44:36.128382Z",
     "iopub.status.busy": "2024-10-24T14:44:36.128055Z",
     "iopub.status.idle": "2024-10-24T14:44:50.728804Z",
     "shell.execute_reply": "2024-10-24T14:44:50.728317Z",
     "shell.execute_reply.started": "2024-10-24T14:44:36.128362Z"
    },
    "tags": []
   },
   "outputs": [
    {
     "name": "stderr",
     "output_type": "stream",
     "text": [
      "/usr/local/lib/python3.10/site-packages/datasets/builder.py:883: FutureWarning: 'try_from_hf_gcs' was deprecated in version 2.16.0 and will be removed in 3.0.0.\n",
      "  warnings.warn(\n"
     ]
    }
   ],
   "source": [
    "from modelscope.msdatasets import MsDataset\n",
    "\n",
    "ds = MsDataset.load(\n",
    "    'AI-ModelScope/lowres_anime',\n",
    "    subset_name='default',\n",
    "    split='train',\n",
    "    cache_dir=\"/mnt/workspace/data\"\n",
    ")"
   ]
  },
  {
   "cell_type": "markdown",
   "id": "a189ae96-28b6-4dac-9d86-16a17bb6b6b8",
   "metadata": {},
   "source": [
    "保存数据集中的图片及元数据"
   ]
  },
  {
   "cell_type": "code",
   "execution_count": 12,
   "id": "6bf5c24d-ba7d-481f-8c58-670f14c9ad8d",
   "metadata": {
    "ExecutionIndicator": {
     "show": true
    },
    "execution": {
     "iopub.execute_input": "2024-10-24T14:44:52.745602Z",
     "iopub.status.busy": "2024-10-24T14:44:52.745127Z",
     "iopub.status.idle": "2024-10-24T14:45:15.929418Z",
     "shell.execute_reply": "2024-10-24T14:45:15.928751Z",
     "shell.execute_reply.started": "2024-10-24T14:44:52.745580Z"
    },
    "tags": []
   },
   "outputs": [
    {
     "name": "stderr",
     "output_type": "stream",
     "text": [
      "100%|██████████| 1454/1454 [00:23<00:00, 63.10it/s] \n"
     ]
    }
   ],
   "source": [
    "import json, os\n",
    "from data_juicer.utils.mm_utils import SpecialTokens\n",
    "from tqdm import tqdm\n",
    "\n",
    "\n",
    "os.makedirs(\"./data/lora_dataset/train\", exist_ok=True)\n",
    "os.makedirs(\"./data/data-juicer/input\", exist_ok=True)\n",
    "with open(\"./data/data-juicer/input/metadata.jsonl\", \"w\") as f:\n",
    "    for data_id, data in enumerate(tqdm(ds)):\n",
    "        image = data[\"image\"].convert(\"RGB\")\n",
    "        image.save(f\"/mnt/workspace/data/lora_dataset/train/{data_id}.jpg\")\n",
    "        metadata = {\"text\": \"二次元\", \"image\": [f\"/mnt/workspace/data/lora_dataset/train/{data_id}.jpg\"]}\n",
    "        f.write(json.dumps(metadata))\n",
    "        f.write(\"\\n\")"
   ]
  },
  {
   "cell_type": "markdown",
   "id": "8a5d0d80-3f45-4212-929e-ea7e16e6a57c",
   "metadata": {
    "execution": {
     "iopub.execute_input": "2024-07-17T03:09:22.538525Z",
     "iopub.status.busy": "2024-07-17T03:09:22.538196Z",
     "iopub.status.idle": "2024-07-17T03:09:22.541304Z",
     "shell.execute_reply": "2024-07-17T03:09:22.540701Z",
     "shell.execute_reply.started": "2024-07-17T03:09:22.538505Z"
    }
   },
   "source": [
    "## 第三步：数据处理"
   ]
  },
  {
   "cell_type": "markdown",
   "id": "d0df27f6-84f9-4482-a187-81a0e2290b23",
   "metadata": {},
   "source": [
    "使用 data-juicer 处理数据"
   ]
  },
  {
   "cell_type": "code",
   "execution_count": 13,
   "id": "1a114e94-ea9a-4391-be99-63cf7005a0b0",
   "metadata": {
    "ExecutionIndicator": {
     "show": false
    },
    "execution": {
     "iopub.execute_input": "2024-10-24T14:45:18.434052Z",
     "iopub.status.busy": "2024-10-24T14:45:18.433500Z",
     "iopub.status.idle": "2024-10-24T14:45:40.465044Z",
     "shell.execute_reply": "2024-10-24T14:45:40.464438Z",
     "shell.execute_reply.started": "2024-10-24T14:45:18.434023Z"
    },
    "tags": []
   },
   "outputs": [
    {
     "name": "stdout",
     "output_type": "stream",
     "text": [
      "\u001b[32m2024-10-24 22:45:28\u001b[0m | \u001b[1mINFO    \u001b[0m | \u001b[36mdata_juicer.config.config\u001b[0m:\u001b[36m635\u001b[0m - \u001b[1mBack up the input config file [/mnt/workspace/data/data-juicer/data_juicer_config.yaml] into the work_dir [/mnt/workspace/data/data-juicer/output]\u001b[0m\n",
      "\u001b[32m2024-10-24 22:45:28\u001b[0m | \u001b[1mINFO    \u001b[0m | \u001b[36mdata_juicer.config.config\u001b[0m:\u001b[36m657\u001b[0m - \u001b[1mConfiguration table: \u001b[0m\n",
      "╒══════════════════════════╤═════════════════════════════════════════════════════════════════════════╕\n",
      "│ key                      │ values                                                                  │\n",
      "╞══════════════════════════╪═════════════════════════════════════════════════════════════════════════╡\n",
      "│ config                   │ [Path_fr(data/data-juicer/data_juicer_config.yaml, cwd=/mnt/workspace)] │\n",
      "├──────────────────────────┼─────────────────────────────────────────────────────────────────────────┤\n",
      "│ hpo_config               │ None                                                                    │\n",
      "├──────────────────────────┼─────────────────────────────────────────────────────────────────────────┤\n",
      "│ data_probe_algo          │ 'uniform'                                                               │\n",
      "├──────────────────────────┼─────────────────────────────────────────────────────────────────────────┤\n",
      "│ data_probe_ratio         │ 1.0                                                                     │\n",
      "├──────────────────────────┼─────────────────────────────────────────────────────────────────────────┤\n",
      "│ project_name             │ 'data-process'                                                          │\n",
      "├──────────────────────────┼─────────────────────────────────────────────────────────────────────────┤\n",
      "│ executor_type            │ 'default'                                                               │\n",
      "├──────────────────────────┼─────────────────────────────────────────────────────────────────────────┤\n",
      "│ dataset_path             │ '/mnt/workspace/data/data-juicer/input/metadata.jsonl'                  │\n",
      "├──────────────────────────┼─────────────────────────────────────────────────────────────────────────┤\n",
      "│ generated_dataset_config │ None                                                                    │\n",
      "├──────────────────────────┼─────────────────────────────────────────────────────────────────────────┤\n",
      "│ export_path              │ '/mnt/workspace/data/data-juicer/output/result.jsonl'                   │\n",
      "├──────────────────────────┼─────────────────────────────────────────────────────────────────────────┤\n",
      "│ export_shard_size        │ 0                                                                       │\n",
      "├──────────────────────────┼─────────────────────────────────────────────────────────────────────────┤\n",
      "│ export_in_parallel       │ False                                                                   │\n",
      "├──────────────────────────┼─────────────────────────────────────────────────────────────────────────┤\n",
      "│ keep_stats_in_res_ds     │ False                                                                   │\n",
      "├──────────────────────────┼─────────────────────────────────────────────────────────────────────────┤\n",
      "│ keep_hashes_in_res_ds    │ False                                                                   │\n",
      "├──────────────────────────┼─────────────────────────────────────────────────────────────────────────┤\n",
      "│ np                       │ 4                                                                       │\n",
      "├──────────────────────────┼─────────────────────────────────────────────────────────────────────────┤\n",
      "│ text_keys                │ 'text'                                                                  │\n",
      "├──────────────────────────┼─────────────────────────────────────────────────────────────────────────┤\n",
      "│ image_key                │ 'image'                                                                 │\n",
      "├──────────────────────────┼─────────────────────────────────────────────────────────────────────────┤\n",
      "│ image_special_token      │ '<__dj__image>'                                                         │\n",
      "├──────────────────────────┼─────────────────────────────────────────────────────────────────────────┤\n",
      "│ audio_key                │ 'audios'                                                                │\n",
      "├──────────────────────────┼─────────────────────────────────────────────────────────────────────────┤\n",
      "│ audio_special_token      │ '<__dj__audio>'                                                         │\n",
      "├──────────────────────────┼─────────────────────────────────────────────────────────────────────────┤\n",
      "│ video_key                │ 'videos'                                                                │\n",
      "├──────────────────────────┼─────────────────────────────────────────────────────────────────────────┤\n",
      "│ video_special_token      │ '<__dj__video>'                                                         │\n",
      "├──────────────────────────┼─────────────────────────────────────────────────────────────────────────┤\n",
      "│ eoc_special_token        │ '<|__dj__eoc|>'                                                         │\n",
      "├──────────────────────────┼─────────────────────────────────────────────────────────────────────────┤\n",
      "│ suffixes                 │ []                                                                      │\n",
      "├──────────────────────────┼─────────────────────────────────────────────────────────────────────────┤\n",
      "│ turbo                    │ False                                                                   │\n",
      "├──────────────────────────┼─────────────────────────────────────────────────────────────────────────┤\n",
      "│ use_cache                │ True                                                                    │\n",
      "├──────────────────────────┼─────────────────────────────────────────────────────────────────────────┤\n",
      "│ ds_cache_dir             │ '/root/.cache/huggingface/datasets'                                     │\n",
      "├──────────────────────────┼─────────────────────────────────────────────────────────────────────────┤\n",
      "│ cache_compress           │ None                                                                    │\n",
      "├──────────────────────────┼─────────────────────────────────────────────────────────────────────────┤\n",
      "│ use_checkpoint           │ False                                                                   │\n",
      "├──────────────────────────┼─────────────────────────────────────────────────────────────────────────┤\n",
      "│ temp_dir                 │ None                                                                    │\n",
      "├──────────────────────────┼─────────────────────────────────────────────────────────────────────────┤\n",
      "│ open_tracer              │ False                                                                   │\n",
      "├──────────────────────────┼─────────────────────────────────────────────────────────────────────────┤\n",
      "│ op_list_to_trace         │ []                                                                      │\n",
      "├──────────────────────────┼─────────────────────────────────────────────────────────────────────────┤\n",
      "│ trace_num                │ 10                                                                      │\n",
      "├──────────────────────────┼─────────────────────────────────────────────────────────────────────────┤\n",
      "│ op_fusion                │ False                                                                   │\n",
      "├──────────────────────────┼─────────────────────────────────────────────────────────────────────────┤\n",
      "│ process                  │ [{'image_shape_filter': {'accelerator': None,                           │\n",
      "│                          │                          'any_or_all': 'any',                           │\n",
      "│                          │                          'audio_key': 'audios',                         │\n",
      "│                          │                          'batch_size': 1000,                            │\n",
      "│                          │                          'cpu_required': 1,                             │\n",
      "│                          │                          'image_key': 'image',                          │\n",
      "│                          │                          'max_height': 9223372036854775807,             │\n",
      "│                          │                          'max_width': 9223372036854775807,              │\n",
      "│                          │                          'mem_required': 0,                             │\n",
      "│                          │                          'min_height': 1024,                            │\n",
      "│                          │                          'min_width': 1024,                             │\n",
      "│                          │                          'num_proc': 4,                                 │\n",
      "│                          │                          'stats_export_path': None,                     │\n",
      "│                          │                          'text_key': 'text',                            │\n",
      "│                          │                          'turbo': False,                                │\n",
      "│                          │                          'video_key': 'videos'}},                       │\n",
      "│                          │  {'image_aspect_ratio_filter': {'accelerator': None,                    │\n",
      "│                          │                                 'any_or_all': 'any',                    │\n",
      "│                          │                                 'audio_key': 'audios',                  │\n",
      "│                          │                                 'batch_size': 1000,                     │\n",
      "│                          │                                 'cpu_required': 1,                      │\n",
      "│                          │                                 'image_key': 'image',                   │\n",
      "│                          │                                 'max_ratio': 2.0,                       │\n",
      "│                          │                                 'mem_required': 0,                      │\n",
      "│                          │                                 'min_ratio': 0.5,                       │\n",
      "│                          │                                 'num_proc': 4,                          │\n",
      "│                          │                                 'stats_export_path': None,              │\n",
      "│                          │                                 'text_key': 'text',                     │\n",
      "│                          │                                 'turbo': False,                         │\n",
      "│                          │                                 'video_key': 'videos'}}]                │\n",
      "├──────────────────────────┼─────────────────────────────────────────────────────────────────────────┤\n",
      "│ percentiles              │ []                                                                      │\n",
      "├──────────────────────────┼─────────────────────────────────────────────────────────────────────────┤\n",
      "│ export_original_dataset  │ False                                                                   │\n",
      "├──────────────────────────┼─────────────────────────────────────────────────────────────────────────┤\n",
      "│ save_stats_in_one_file   │ False                                                                   │\n",
      "├──────────────────────────┼─────────────────────────────────────────────────────────────────────────┤\n",
      "│ ray_address              │ 'auto'                                                                  │\n",
      "├──────────────────────────┼─────────────────────────────────────────────────────────────────────────┤\n",
      "│ debug                    │ False                                                                   │\n",
      "├──────────────────────────┼─────────────────────────────────────────────────────────────────────────┤\n",
      "│ work_dir                 │ '/mnt/workspace/data/data-juicer/output'                                │\n",
      "├──────────────────────────┼─────────────────────────────────────────────────────────────────────────┤\n",
      "│ timestamp                │ '20241024224526'                                                        │\n",
      "├──────────────────────────┼─────────────────────────────────────────────────────────────────────────┤\n",
      "│ dataset_dir              │ '/mnt/workspace/data/data-juicer/input'                                 │\n",
      "├──────────────────────────┼─────────────────────────────────────────────────────────────────────────┤\n",
      "│ add_suffix               │ False                                                                   │\n",
      "╘══════════════════════════╧═════════════════════════════════════════════════════════════════════════╛\n",
      "\u001b[32m2024-10-24 22:45:28\u001b[0m | \u001b[1mINFO    \u001b[0m | \u001b[36mdata_juicer.core.executor\u001b[0m:\u001b[36m45\u001b[0m - \u001b[1mUsing cache compression method: [None]\u001b[0m\n",
      "\u001b[32m2024-10-24 22:45:28\u001b[0m | \u001b[1mINFO    \u001b[0m | \u001b[36mdata_juicer.core.executor\u001b[0m:\u001b[36m50\u001b[0m - \u001b[1mSetting up data formatter...\u001b[0m\n",
      "\u001b[32m2024-10-24 22:45:28\u001b[0m | \u001b[1mINFO    \u001b[0m | \u001b[36mdata_juicer.core.executor\u001b[0m:\u001b[36m73\u001b[0m - \u001b[1mPreparing exporter...\u001b[0m\n",
      "\u001b[32m2024-10-24 22:45:28\u001b[0m | \u001b[1mINFO    \u001b[0m | \u001b[36mdata_juicer.core.executor\u001b[0m:\u001b[36m150\u001b[0m - \u001b[1mLoading dataset from data formatter...\u001b[0m\n",
      "Setting num_proc from 4 back to 1 for the jsonl split to disable multiprocessing as it only contains one shard.\n",
      "Generating jsonl split: 1454 examples [00:00, 408665.68 examples/s]\n",
      "\u001b[32m2024-10-24 22:45:33\u001b[0m | \u001b[1mINFO    \u001b[0m | \u001b[36mdata_juicer.format.formatter\u001b[0m:\u001b[36m185\u001b[0m - \u001b[1mUnifying the input dataset formats...\u001b[0m\n",
      "\u001b[32m2024-10-24 22:45:33\u001b[0m | \u001b[1mINFO    \u001b[0m | \u001b[36mdata_juicer.format.formatter\u001b[0m:\u001b[36m200\u001b[0m - \u001b[1mThere are 1454 sample(s) in the original dataset.\u001b[0m\n",
      "Filter (num_proc=4): 100%|##########| 1454/1454 [00:00<00:00, 11188.77 examples/s]\n",
      "\u001b[32m2024-10-24 22:45:33\u001b[0m | \u001b[1mINFO    \u001b[0m | \u001b[36mdata_juicer.format.formatter\u001b[0m:\u001b[36m214\u001b[0m - \u001b[1m1454 samples left after filtering empty text.\u001b[0m\n",
      "\u001b[32m2024-10-24 22:45:33\u001b[0m | \u001b[1mINFO    \u001b[0m | \u001b[36mdata_juicer.format.formatter\u001b[0m:\u001b[36m237\u001b[0m - \u001b[1mConverting relative paths in the dataset to their absolute version. (Based on the directory of input dataset file)\u001b[0m\n",
      "Map (num_proc=4): 100%|##########| 1454/1454 [00:00<00:00, 9314.78 examples/s]\n",
      "\u001b[32m2024-10-24 22:45:33\u001b[0m | \u001b[1mINFO    \u001b[0m | \u001b[36mdata_juicer.format.mixture_formatter\u001b[0m:\u001b[36m137\u001b[0m - \u001b[1msampled 1454 from 1454\u001b[0m\n",
      "\u001b[32m2024-10-24 22:45:33\u001b[0m | \u001b[1mINFO    \u001b[0m | \u001b[36mdata_juicer.format.mixture_formatter\u001b[0m:\u001b[36m143\u001b[0m - \u001b[1mThere are 1454 in final dataset\u001b[0m\n",
      "\u001b[32m2024-10-24 22:45:33\u001b[0m | \u001b[1mINFO    \u001b[0m | \u001b[36mdata_juicer.core.executor\u001b[0m:\u001b[36m156\u001b[0m - \u001b[1mPreparing process operators...\u001b[0m\n",
      "\u001b[32m2024-10-24 22:45:33\u001b[0m | \u001b[1mINFO    \u001b[0m | \u001b[36mdata_juicer.core.executor\u001b[0m:\u001b[36m162\u001b[0m - \u001b[1mProcessing data...\u001b[0m\n",
      "Adding new column for stats (num_proc=4): 100%|##########| 1454/1454 [00:00<00:00, 10514.05 examples/s]\n",
      "image_shape_filter_compute_stats (num_proc=4): 100%|##########| 1454/1454 [00:03<00:00, 466.08 examples/s]\n",
      "image_shape_filter_process (num_proc=4): 100%|##########| 1454/1454 [00:00<00:00, 10408.93 examples/s]\n",
      "\u001b[32m2024-10-24 22:45:37\u001b[0m | \u001b[1mINFO    \u001b[0m | \u001b[36mdata_juicer.core.data\u001b[0m:\u001b[36m206\u001b[0m - \u001b[1mOP [image_shape_filter] Done in 3.882s. Left 129 samples.\u001b[0m\n",
      "image_aspect_ratio_filter_compute_stats (num_proc=4): 100%|##########| 129/129 [00:01<00:00, 115.69 examples/s]\n",
      "image_aspect_ratio_filter_process (num_proc=4): 100%|##########| 129/129 [00:00<00:00, 1055.57 examples/s]\n",
      "\u001b[32m2024-10-24 22:45:39\u001b[0m | \u001b[1mINFO    \u001b[0m | \u001b[36mdata_juicer.core.data\u001b[0m:\u001b[36m206\u001b[0m - \u001b[1mOP [image_aspect_ratio_filter] Done in 1.718s. Left 129 samples.\u001b[0m\n",
      "\u001b[32m2024-10-24 22:45:39\u001b[0m | \u001b[1mINFO    \u001b[0m | \u001b[36mdata_juicer.core.executor\u001b[0m:\u001b[36m170\u001b[0m - \u001b[1mAll OPs are done in 5.607s.\u001b[0m\n",
      "\u001b[32m2024-10-24 22:45:39\u001b[0m | \u001b[1mINFO    \u001b[0m | \u001b[36mdata_juicer.core.executor\u001b[0m:\u001b[36m173\u001b[0m - \u001b[1mExporting dataset to disk...\u001b[0m\n",
      "\u001b[32m2024-10-24 22:45:39\u001b[0m | \u001b[1mINFO    \u001b[0m | \u001b[36mdata_juicer.core.exporter\u001b[0m:\u001b[36m111\u001b[0m - \u001b[1mExporting computed stats into a single file...\u001b[0m\n",
      "Creating json from Arrow format: 100%|##########| 1/1 [00:00<00:00, 172.66ba/s]\n",
      "\u001b[32m2024-10-24 22:45:39\u001b[0m | \u001b[1mINFO    \u001b[0m | \u001b[36mdata_juicer.core.exporter\u001b[0m:\u001b[36m140\u001b[0m - \u001b[1mExport dataset into a single file...\u001b[0m\n",
      "Creating json from Arrow format: 100%|##########| 1/1 [00:00<00:00, 269.73ba/s]\n"
     ]
    }
   ],
   "source": [
    "data_juicer_config = \"\"\"\n",
    "# global parameters\n",
    "project_name: 'data-process'\n",
    "dataset_path: './data/data-juicer/input/metadata.jsonl'  # path to your dataset directory or file\n",
    "np: 4  # number of subprocess to process your dataset\n",
    "\n",
    "text_keys: 'text'\n",
    "image_key: 'image'\n",
    "image_special_token: '<__dj__image>'\n",
    "\n",
    "export_path: './data/data-juicer/output/result.jsonl'\n",
    "\n",
    "# process schedule\n",
    "# a list of several process operators with their arguments\n",
    "process:\n",
    "    - image_shape_filter:\n",
    "        min_width: 1024\n",
    "        min_height: 1024\n",
    "        any_or_all: any\n",
    "    - image_aspect_ratio_filter:\n",
    "        min_ratio: 0.5\n",
    "        max_ratio: 2.0\n",
    "        any_or_all: any\n",
    "\"\"\"\n",
    "with open(\"data/data-juicer/data_juicer_config.yaml\", \"w\") as file:\n",
    "    file.write(data_juicer_config.strip())\n",
    "\n",
    "!dj-process --config data/data-juicer/data_juicer_config.yaml"
   ]
  },
  {
   "cell_type": "markdown",
   "id": "9500e8d8-8320-4206-a0bb-ea8aa24b9787",
   "metadata": {},
   "source": [
    "保存处理好的数据"
   ]
  },
  {
   "cell_type": "code",
   "execution_count": 14,
   "id": "61f29844-e438-4220-905d-acabc73e20ad",
   "metadata": {
    "ExecutionIndicator": {
     "show": true
    },
    "execution": {
     "iopub.execute_input": "2024-10-24T14:45:42.175807Z",
     "iopub.status.busy": "2024-10-24T14:45:42.175462Z",
     "iopub.status.idle": "2024-10-24T14:45:46.337448Z",
     "shell.execute_reply": "2024-10-24T14:45:46.337013Z",
     "shell.execute_reply.started": "2024-10-24T14:45:42.175786Z"
    },
    "tags": []
   },
   "outputs": [
    {
     "name": "stderr",
     "output_type": "stream",
     "text": [
      "100%|██████████| 129/129 [00:04<00:00, 31.16it/s]\n"
     ]
    },
    {
     "data": {
      "text/html": [
       "<div>\n",
       "<style scoped>\n",
       "    .dataframe tbody tr th:only-of-type {\n",
       "        vertical-align: middle;\n",
       "    }\n",
       "\n",
       "    .dataframe tbody tr th {\n",
       "        vertical-align: top;\n",
       "    }\n",
       "\n",
       "    .dataframe thead th {\n",
       "        text-align: right;\n",
       "    }\n",
       "</style>\n",
       "<table border=\"1\" class=\"dataframe\">\n",
       "  <thead>\n",
       "    <tr style=\"text-align: right;\">\n",
       "      <th></th>\n",
       "      <th>file_name</th>\n",
       "      <th>text</th>\n",
       "    </tr>\n",
       "  </thead>\n",
       "  <tbody>\n",
       "    <tr>\n",
       "      <th>0</th>\n",
       "      <td>0.jpg</td>\n",
       "      <td>二次元</td>\n",
       "    </tr>\n",
       "    <tr>\n",
       "      <th>1</th>\n",
       "      <td>1.jpg</td>\n",
       "      <td>二次元</td>\n",
       "    </tr>\n",
       "    <tr>\n",
       "      <th>2</th>\n",
       "      <td>2.jpg</td>\n",
       "      <td>二次元</td>\n",
       "    </tr>\n",
       "    <tr>\n",
       "      <th>3</th>\n",
       "      <td>3.jpg</td>\n",
       "      <td>二次元</td>\n",
       "    </tr>\n",
       "    <tr>\n",
       "      <th>4</th>\n",
       "      <td>4.jpg</td>\n",
       "      <td>二次元</td>\n",
       "    </tr>\n",
       "    <tr>\n",
       "      <th>...</th>\n",
       "      <td>...</td>\n",
       "      <td>...</td>\n",
       "    </tr>\n",
       "    <tr>\n",
       "      <th>124</th>\n",
       "      <td>124.jpg</td>\n",
       "      <td>二次元</td>\n",
       "    </tr>\n",
       "    <tr>\n",
       "      <th>125</th>\n",
       "      <td>125.jpg</td>\n",
       "      <td>二次元</td>\n",
       "    </tr>\n",
       "    <tr>\n",
       "      <th>126</th>\n",
       "      <td>126.jpg</td>\n",
       "      <td>二次元</td>\n",
       "    </tr>\n",
       "    <tr>\n",
       "      <th>127</th>\n",
       "      <td>127.jpg</td>\n",
       "      <td>二次元</td>\n",
       "    </tr>\n",
       "    <tr>\n",
       "      <th>128</th>\n",
       "      <td>128.jpg</td>\n",
       "      <td>二次元</td>\n",
       "    </tr>\n",
       "  </tbody>\n",
       "</table>\n",
       "<p>129 rows × 2 columns</p>\n",
       "</div>"
      ],
      "text/plain": [
       "    file_name text\n",
       "0       0.jpg  二次元\n",
       "1       1.jpg  二次元\n",
       "2       2.jpg  二次元\n",
       "3       3.jpg  二次元\n",
       "4       4.jpg  二次元\n",
       "..        ...  ...\n",
       "124   124.jpg  二次元\n",
       "125   125.jpg  二次元\n",
       "126   126.jpg  二次元\n",
       "127   127.jpg  二次元\n",
       "128   128.jpg  二次元\n",
       "\n",
       "[129 rows x 2 columns]"
      ]
     },
     "execution_count": 14,
     "metadata": {},
     "output_type": "execute_result"
    }
   ],
   "source": [
    "import pandas as pd\n",
    "import os, json\n",
    "from PIL import Image\n",
    "from tqdm import tqdm\n",
    "\n",
    "\n",
    "texts, file_names = [], []\n",
    "os.makedirs(\"./data/lora_dataset_processed/train\", exist_ok=True)\n",
    "with open(\"./data/data-juicer/output/result.jsonl\", \"r\") as file:\n",
    "    for data_id, data in enumerate(tqdm(file.readlines())):\n",
    "        data = json.loads(data)\n",
    "        text = data[\"text\"]\n",
    "        texts.append(text)\n",
    "        image = Image.open(data[\"image\"][0])\n",
    "        image_path = f\"./data/lora_dataset_processed/train/{data_id}.jpg\"\n",
    "        image.save(image_path)\n",
    "        file_names.append(f\"{data_id}.jpg\")\n",
    "data_frame = pd.DataFrame()\n",
    "data_frame[\"file_name\"] = file_names\n",
    "data_frame[\"text\"] = texts\n",
    "data_frame.to_csv(\"./data/lora_dataset_processed/train/metadata.csv\", index=False, encoding=\"utf-8-sig\")\n",
    "data_frame"
   ]
  },
  {
   "cell_type": "markdown",
   "id": "d7468f6b-f254-4e2a-bfdb-18a5328a3a26",
   "metadata": {},
   "source": [
    "## 第四步：训练模型\n",
    "\n",
    "下载模型"
   ]
  },
  {
   "cell_type": "code",
   "execution_count": 15,
   "id": "3ece72f7-dbdb-4679-8e55-56c2f6a71abc",
   "metadata": {
    "execution": {
     "iopub.execute_input": "2024-10-24T14:45:49.477815Z",
     "iopub.status.busy": "2024-10-24T14:45:49.477513Z",
     "iopub.status.idle": "2024-10-24T14:49:19.474512Z",
     "shell.execute_reply": "2024-10-24T14:49:19.474039Z",
     "shell.execute_reply.started": "2024-10-24T14:45:49.477795Z"
    },
    "tags": []
   },
   "outputs": [
    {
     "name": "stderr",
     "output_type": "stream",
     "text": [
      "2024-10-24 22:45:50.684709: I tensorflow/core/util/port.cc:113] oneDNN custom operations are on. You may see slightly different numerical results due to floating-point round-off errors from different computation orders. To turn them off, set the environment variable `TF_ENABLE_ONEDNN_OPTS=0`.\n",
      "2024-10-24 22:45:51.278252: I tensorflow/core/platform/cpu_feature_guard.cc:210] This TensorFlow binary is optimized to use available CPU instructions in performance-critical operations.\n",
      "To enable the following instructions: AVX2 AVX512F AVX512_VNNI FMA, in other operations, rebuild TensorFlow with the appropriate compiler flags.\n",
      "2024-10-24 22:45:52.401044: W tensorflow/compiler/tf2tensorrt/utils/py_utils.cc:38] TF-TRT Warning: Could not find TensorRT\n",
      "Failed to load cpm_kernels:No module named 'cpm_kernels'\n"
     ]
    },
    {
     "name": "stdout",
     "output_type": "stream",
     "text": [
      "Downloading models: ['Kolors', 'SDXL-vae-fp16-fix']\n",
      "    Start downloading models/kolors/Kolors/text_encoder/config.json\n"
     ]
    },
    {
     "name": "stderr",
     "output_type": "stream",
     "text": [
      "Downloading [text_encoder/config.json]: 100%|██████████| 1.29k/1.29k [00:00<00:00, 1.95kB/s]\n"
     ]
    },
    {
     "name": "stdout",
     "output_type": "stream",
     "text": [
      "    Start downloading models/kolors/Kolors/text_encoder/pytorch_model.bin.index.json\n"
     ]
    },
    {
     "name": "stderr",
     "output_type": "stream",
     "text": [
      "Downloading [text_encoder/pytorch_model.bin.index.json]: 100%|██████████| 20.0k/20.0k [00:00<00:00, 42.4kB/s]\n"
     ]
    },
    {
     "name": "stdout",
     "output_type": "stream",
     "text": [
      "    Start downloading models/kolors/Kolors/text_encoder/pytorch_model-00001-of-00007.bin\n"
     ]
    },
    {
     "name": "stderr",
     "output_type": "stream",
     "text": [
      "Downloading [text_encoder/pytorch_model-00001-of-00007.bin]: 100%|██████████| 1.70G/1.70G [00:11<00:00, 160MB/s]    \n"
     ]
    },
    {
     "name": "stdout",
     "output_type": "stream",
     "text": [
      "    Start downloading models/kolors/Kolors/text_encoder/pytorch_model-00002-of-00007.bin\n"
     ]
    },
    {
     "name": "stderr",
     "output_type": "stream",
     "text": [
      "Downloading [text_encoder/pytorch_model-00002-of-00007.bin]: 100%|██████████| 1.83G/1.83G [00:11<00:00, 168MB/s]    \n"
     ]
    },
    {
     "name": "stdout",
     "output_type": "stream",
     "text": [
      "    Start downloading models/kolors/Kolors/text_encoder/pytorch_model-00003-of-00007.bin\n"
     ]
    },
    {
     "name": "stderr",
     "output_type": "stream",
     "text": [
      "Downloading [text_encoder/pytorch_model-00003-of-00007.bin]: 100%|██████████| 1.80G/1.80G [00:11<00:00, 171MB/s]    \n"
     ]
    },
    {
     "name": "stdout",
     "output_type": "stream",
     "text": [
      "    Start downloading models/kolors/Kolors/text_encoder/pytorch_model-00004-of-00007.bin\n"
     ]
    },
    {
     "name": "stderr",
     "output_type": "stream",
     "text": [
      "Downloading [text_encoder/pytorch_model-00004-of-00007.bin]: 100%|██████████| 1.69G/1.69G [00:11<00:00, 157MB/s]    \n"
     ]
    },
    {
     "name": "stdout",
     "output_type": "stream",
     "text": [
      "    Start downloading models/kolors/Kolors/text_encoder/pytorch_model-00005-of-00007.bin\n"
     ]
    },
    {
     "name": "stderr",
     "output_type": "stream",
     "text": [
      "Downloading [text_encoder/pytorch_model-00005-of-00007.bin]: 100%|██████████| 1.83G/1.83G [00:11<00:00, 172MB/s]    \n"
     ]
    },
    {
     "name": "stdout",
     "output_type": "stream",
     "text": [
      "    Start downloading models/kolors/Kolors/text_encoder/pytorch_model-00006-of-00007.bin\n"
     ]
    },
    {
     "name": "stderr",
     "output_type": "stream",
     "text": [
      "Downloading [text_encoder/pytorch_model-00006-of-00007.bin]: 100%|██████████| 1.80G/1.80G [00:10<00:00, 182MB/s]    \n"
     ]
    },
    {
     "name": "stdout",
     "output_type": "stream",
     "text": [
      "    Start downloading models/kolors/Kolors/text_encoder/pytorch_model-00007-of-00007.bin\n"
     ]
    },
    {
     "name": "stderr",
     "output_type": "stream",
     "text": [
      "Downloading [text_encoder/pytorch_model-00007-of-00007.bin]: 100%|██████████| 0.98G/0.98G [00:06<00:00, 168MB/s]    \n"
     ]
    },
    {
     "name": "stdout",
     "output_type": "stream",
     "text": [
      "    Start downloading models/kolors/Kolors/unet/diffusion_pytorch_model.safetensors\n"
     ]
    },
    {
     "name": "stderr",
     "output_type": "stream",
     "text": [
      "Downloading [unet/diffusion_pytorch_model.safetensors]: 100%|██████████| 9.61G/9.61G [00:55<00:00, 186MB/s]     \n"
     ]
    },
    {
     "name": "stdout",
     "output_type": "stream",
     "text": [
      "    Start downloading models/kolors/Kolors/vae/diffusion_pytorch_model.safetensors\n"
     ]
    },
    {
     "name": "stderr",
     "output_type": "stream",
     "text": [
      "Downloading [vae/diffusion_pytorch_model.safetensors]: 100%|██████████| 319M/319M [00:02<00:00, 124MB/s]     \n"
     ]
    },
    {
     "name": "stdout",
     "output_type": "stream",
     "text": [
      "    Start downloading models/sdxl-vae-fp16-fix/diffusion_pytorch_model.safetensors\n"
     ]
    },
    {
     "name": "stderr",
     "output_type": "stream",
     "text": [
      "Downloading [diffusion_pytorch_model.safetensors]: 100%|██████████| 319M/319M [00:03<00:00, 102MB/s]     \n"
     ]
    },
    {
     "data": {
      "text/plain": [
       "['models/kolors/Kolors/text_encoder',\n",
       " 'models/kolors/Kolors/unet/diffusion_pytorch_model.safetensors',\n",
       " 'models/kolors/Kolors/vae/diffusion_pytorch_model.safetensors',\n",
       " 'models/sdxl-vae-fp16-fix/diffusion_pytorch_model.safetensors']"
      ]
     },
     "execution_count": 15,
     "metadata": {},
     "output_type": "execute_result"
    }
   ],
   "source": [
    "from diffsynth import download_models\n",
    "\n",
    "download_models([\"Kolors\", \"SDXL-vae-fp16-fix\"])"
   ]
  },
  {
   "cell_type": "markdown",
   "id": "5f8671d8-a9ec-4a99-b9e5-f9d80e592c58",
   "metadata": {},
   "source": [
    "查看训练脚本的输入参数"
   ]
  },
  {
   "cell_type": "code",
   "execution_count": 16,
   "id": "cd36b187-037d-4f70-a84c-675e0566bb93",
   "metadata": {
    "execution": {
     "iopub.execute_input": "2024-10-24T14:49:19.475888Z",
     "iopub.status.busy": "2024-10-24T14:49:19.475479Z",
     "iopub.status.idle": "2024-10-24T14:49:31.710575Z",
     "shell.execute_reply": "2024-10-24T14:49:31.709954Z",
     "shell.execute_reply.started": "2024-10-24T14:49:19.475870Z"
    },
    "tags": []
   },
   "outputs": [
    {
     "name": "stdout",
     "output_type": "stream",
     "text": [
      "2024-10-24 22:49:27.245024: I tensorflow/core/util/port.cc:113] oneDNN custom operations are on. You may see slightly different numerical results due to floating-point round-off errors from different computation orders. To turn them off, set the environment variable `TF_ENABLE_ONEDNN_OPTS=0`.\n",
      "2024-10-24 22:49:27.316670: I tensorflow/core/platform/cpu_feature_guard.cc:210] This TensorFlow binary is optimized to use available CPU instructions in performance-critical operations.\n",
      "To enable the following instructions: AVX2 AVX512F AVX512_VNNI FMA, in other operations, rebuild TensorFlow with the appropriate compiler flags.\n",
      "2024-10-24 22:49:28.461255: W tensorflow/compiler/tf2tensorrt/utils/py_utils.cc:38] TF-TRT Warning: Could not find TensorRT\n",
      "Failed to load cpm_kernels:No module named 'cpm_kernels'\n",
      "usage: train_kolors_lora.py [-h] --pretrained_unet_path PRETRAINED_UNET_PATH\n",
      "                            --pretrained_text_encoder_path\n",
      "                            PRETRAINED_TEXT_ENCODER_PATH\n",
      "                            --pretrained_fp16_vae_path\n",
      "                            PRETRAINED_FP16_VAE_PATH\n",
      "                            [--lora_target_modules LORA_TARGET_MODULES]\n",
      "                            --dataset_path DATASET_PATH\n",
      "                            [--output_path OUTPUT_PATH]\n",
      "                            [--steps_per_epoch STEPS_PER_EPOCH]\n",
      "                            [--height HEIGHT] [--width WIDTH] [--center_crop]\n",
      "                            [--random_flip] [--batch_size BATCH_SIZE]\n",
      "                            [--dataloader_num_workers DATALOADER_NUM_WORKERS]\n",
      "                            [--precision {32,16,16-mixed,bf16}]\n",
      "                            [--learning_rate LEARNING_RATE]\n",
      "                            [--lora_rank LORA_RANK] [--lora_alpha LORA_ALPHA]\n",
      "                            [--init_lora_weights {gaussian,kaiming}]\n",
      "                            [--use_gradient_checkpointing]\n",
      "                            [--accumulate_grad_batches ACCUMULATE_GRAD_BATCHES]\n",
      "                            [--training_strategy {auto,deepspeed_stage_1,deepspeed_stage_2,deepspeed_stage_3}]\n",
      "                            [--max_epochs MAX_EPOCHS]\n",
      "                            [--modelscope_model_id MODELSCOPE_MODEL_ID]\n",
      "                            [--modelscope_access_token MODELSCOPE_ACCESS_TOKEN]\n",
      "\n",
      "Simple example of a training script.\n",
      "\n",
      "options:\n",
      "  -h, --help            show this help message and exit\n",
      "  --pretrained_unet_path PRETRAINED_UNET_PATH\n",
      "                        Path to pretrained model (UNet). For example, `models/\n",
      "                        kolors/Kolors/unet/diffusion_pytorch_model.safetensors\n",
      "                        `.\n",
      "  --pretrained_text_encoder_path PRETRAINED_TEXT_ENCODER_PATH\n",
      "                        Path to pretrained model (Text Encoder). For example,\n",
      "                        `models/kolors/Kolors/text_encoder`.\n",
      "  --pretrained_fp16_vae_path PRETRAINED_FP16_VAE_PATH\n",
      "                        Path to pretrained model (VAE). For example,\n",
      "                        `models/kolors/Kolors/sdxl-vae-\n",
      "                        fp16-fix/diffusion_pytorch_model.safetensors`.\n",
      "  --lora_target_modules LORA_TARGET_MODULES\n",
      "                        Layers with LoRA modules.\n",
      "  --dataset_path DATASET_PATH\n",
      "                        The path of the Dataset.\n",
      "  --output_path OUTPUT_PATH\n",
      "                        Path to save the model.\n",
      "  --steps_per_epoch STEPS_PER_EPOCH\n",
      "                        Number of steps per epoch.\n",
      "  --height HEIGHT       Image height.\n",
      "  --width WIDTH         Image width.\n",
      "  --center_crop         Whether to center crop the input images to the\n",
      "                        resolution. If not set, the images will be randomly\n",
      "                        cropped. The images will be resized to the resolution\n",
      "                        first before cropping.\n",
      "  --random_flip         Whether to randomly flip images horizontally\n",
      "  --batch_size BATCH_SIZE\n",
      "                        Batch size (per device) for the training dataloader.\n",
      "  --dataloader_num_workers DATALOADER_NUM_WORKERS\n",
      "                        Number of subprocesses to use for data loading. 0\n",
      "                        means that the data will be loaded in the main\n",
      "                        process.\n",
      "  --precision {32,16,16-mixed,bf16}\n",
      "                        Training precision\n",
      "  --learning_rate LEARNING_RATE\n",
      "                        Learning rate.\n",
      "  --lora_rank LORA_RANK\n",
      "                        The dimension of the LoRA update matrices.\n",
      "  --lora_alpha LORA_ALPHA\n",
      "                        The weight of the LoRA update matrices.\n",
      "  --init_lora_weights {gaussian,kaiming}\n",
      "                        The initializing method of LoRA weight.\n",
      "  --use_gradient_checkpointing\n",
      "                        Whether to use gradient checkpointing.\n",
      "  --accumulate_grad_batches ACCUMULATE_GRAD_BATCHES\n",
      "                        The number of batches in gradient accumulation.\n",
      "  --training_strategy {auto,deepspeed_stage_1,deepspeed_stage_2,deepspeed_stage_3}\n",
      "                        Training strategy\n",
      "  --max_epochs MAX_EPOCHS\n",
      "                        Number of epochs.\n",
      "  --modelscope_model_id MODELSCOPE_MODEL_ID\n",
      "                        Model ID on ModelScope (https://www.modelscope.cn/).\n",
      "                        The model will be uploaded to ModelScope automatically\n",
      "                        if you provide a Model ID.\n",
      "  --modelscope_access_token MODELSCOPE_ACCESS_TOKEN\n",
      "                        Access key on ModelScope (https://www.modelscope.cn/).\n",
      "                        Required if you want to upload the model to\n",
      "                        ModelScope.\n"
     ]
    }
   ],
   "source": [
    "!python DiffSynth-Studio/examples/train/kolors/train_kolors_lora.py -h"
   ]
  },
  {
   "cell_type": "markdown",
   "id": "d81f0af6-20d1-4fa2-b554-e1c28d4a4c86",
   "metadata": {},
   "source": [
    "开始训练\n",
    "\n",
    "提示：\n",
    "\n",
    "1. 在训练命令中填入 `--modelscope_model_id xxxxx` 以及 `--modelscope_access_token xxxxx` 后，训练程序会在结束时自动上传模型到 ModelScope\n",
    "2. 部分参数可根据实际需求调整，例如 `lora_rank` 可以控制 LoRA 模型的参数量"
   ]
  },
  {
   "cell_type": "code",
   "execution_count": 17,
   "id": "0163491e-cb45-4ce8-b0d9-893d8741e993",
   "metadata": {
    "ExecutionIndicator": {
     "show": true
    },
    "execution": {
     "iopub.execute_input": "2024-10-24T14:49:31.711701Z",
     "iopub.status.busy": "2024-10-24T14:49:31.711452Z",
     "iopub.status.idle": "2024-10-24T14:59:37.228479Z",
     "shell.execute_reply": "2024-10-24T14:59:37.227981Z",
     "shell.execute_reply.started": "2024-10-24T14:49:31.711682Z"
    },
    "tags": []
   },
   "outputs": [
    {
     "name": "stderr",
     "output_type": "stream",
     "text": [
      "2024-10-24 22:49:34.123191: I tensorflow/core/util/port.cc:113] oneDNN custom operations are on. You may see slightly different numerical results due to floating-point round-off errors from different computation orders. To turn them off, set the environment variable `TF_ENABLE_ONEDNN_OPTS=0`.\n",
      "2024-10-24 22:49:34.165255: I tensorflow/core/platform/cpu_feature_guard.cc:210] This TensorFlow binary is optimized to use available CPU instructions in performance-critical operations.\n",
      "To enable the following instructions: AVX2 AVX512F AVX512_VNNI FMA, in other operations, rebuild TensorFlow with the appropriate compiler flags.\n",
      "2024-10-24 22:49:34.913751: W tensorflow/compiler/tf2tensorrt/utils/py_utils.cc:38] TF-TRT Warning: Could not find TensorRT\n",
      "Failed to load cpm_kernels:No module named 'cpm_kernels'\n"
     ]
    },
    {
     "name": "stdout",
     "output_type": "stream",
     "text": [
      "Loading models from: models/kolors/Kolors/unet/diffusion_pytorch_model.safetensors\n",
      "    model_name: sdxl_unet model_class: SDXLUNet\n",
      "        This model is initialized with extra kwargs: {'is_kolors': True}\n",
      "    The following models are loaded: ['sdxl_unet'].\n",
      "Loading models from: models/kolors/Kolors/text_encoder\n"
     ]
    },
    {
     "name": "stderr",
     "output_type": "stream",
     "text": [
      "Loading checkpoint shards: 100%|██████████| 7/7 [00:01<00:00,  5.49it/s]\n",
      "/usr/local/lib/python3.10/site-packages/transformers/tokenization_utils_base.py:1601: FutureWarning: `clean_up_tokenization_spaces` was not set. It will be set to `True` by default. This behavior will be depracted in transformers v4.45, and will be then set to `False` by default. For more details check this issue: https://github.com/huggingface/transformers/issues/31884\n",
      "  warnings.warn(\n",
      "Using 16bit Automatic Mixed Precision (AMP)\n",
      "GPU available: True (cuda), used: True\n",
      "TPU available: False, using: 0 TPU cores\n",
      "HPU available: False, using: 0 HPUs\n",
      "You are using a CUDA device ('NVIDIA A10') that has Tensor Cores. To properly utilize them, you should set `torch.set_float32_matmul_precision('medium' | 'high')` which will trade-off precision for performance. For more details, read https://pytorch.org/docs/stable/generated/torch.set_float32_matmul_precision.html#torch.set_float32_matmul_precision\n",
      "LOCAL_RANK: 0 - CUDA_VISIBLE_DEVICES: [0]\n",
      "\n",
      "  | Name | Type              | Params | Mode\n",
      "--------------------------------------------------\n",
      "0 | pipe | SDXLImagePipeline | 8.9 B  | eval\n",
      "--------------------------------------------------\n",
      "23.2 M    Trainable params\n",
      "8.9 B     Non-trainable params\n",
      "8.9 B     Total params\n",
      "35,719.684Total estimated model params size (MB)\n",
      "7017      Modules in train mode\n",
      "507       Modules in eval mode\n",
      "/usr/local/lib/python3.10/site-packages/lightning/pytorch/trainer/connectors/data_connector.py:424: The 'train_dataloader' does not have many workers which may be a bottleneck. Consider increasing the value of the `num_workers` argument` to `num_workers=7` in the `DataLoader` to improve performance.\n"
     ]
    },
    {
     "name": "stdout",
     "output_type": "stream",
     "text": [
      "    The following models are loaded: ['kolors_text_encoder'].\n",
      "Loading models from: models/sdxl-vae-fp16-fix/diffusion_pytorch_model.safetensors\n",
      "    model_name: sdxl_vae_encoder model_class: SDXLVAEEncoder\n",
      "        This model is initialized with extra kwargs: {'upcast_to_float32': True}\n",
      "    model_name: sdxl_vae_decoder model_class: SDXLVAEDecoder\n",
      "        This model is initialized with extra kwargs: {'upcast_to_float32': True}\n",
      "    The following models are loaded: ['sdxl_vae_encoder', 'sdxl_vae_decoder'].\n",
      "No sdxl_text_encoder models available.\n",
      "No sdxl_text_encoder_2 models available.\n",
      "Using kolors_text_encoder from models/kolors/Kolors/text_encoder.\n",
      "Using sdxl_unet from models/kolors/Kolors/unet/diffusion_pytorch_model.safetensors.\n",
      "Using sdxl_vae_decoder from models/sdxl-vae-fp16-fix/diffusion_pytorch_model.safetensors.\n",
      "Using sdxl_vae_encoder from models/sdxl-vae-fp16-fix/diffusion_pytorch_model.safetensors.\n",
      "No sdxl_ipadapter models available.\n",
      "No sdxl_ipadapter_clip_image_encoder models available.\n",
      "Switch to Kolors. The prompter and scheduler will be replaced.\n",
      "Epoch 0:   0%|          | 0/500 [00:00<?, ?it/s] "
     ]
    },
    {
     "name": "stderr",
     "output_type": "stream",
     "text": [
      "/usr/local/lib/python3.10/site-packages/torch/nn/modules/conv.py:456: UserWarning: Plan failed with a cudnnException: CUDNN_BACKEND_EXECUTION_PLAN_DESCRIPTOR: cudnnFinalize Descriptor Failed cudnn_status: CUDNN_STATUS_NOT_SUPPORTED (Triggered internally at ../aten/src/ATen/native/cudnn/Conv_v8.cpp:919.)\n",
      "  return F.conv2d(input, weight, bias, self.stride,\n"
     ]
    },
    {
     "name": "stdout",
     "output_type": "stream",
     "text": [
      "Epoch 0: 100%|██████████| 500/500 [09:07<00:00,  0.91it/s, v_num=0, train_loss=0.196]   "
     ]
    },
    {
     "name": "stderr",
     "output_type": "stream",
     "text": [
      "`Trainer.fit` stopped: `max_epochs=1` reached.\n"
     ]
    },
    {
     "name": "stdout",
     "output_type": "stream",
     "text": [
      "Epoch 0: 100%|██████████| 500/500 [09:07<00:00,  0.91it/s, v_num=0, train_loss=0.196]\n"
     ]
    },
    {
     "data": {
      "text/plain": [
       "0"
      ]
     },
     "execution_count": 17,
     "metadata": {},
     "output_type": "execute_result"
    }
   ],
   "source": [
    "import os\n",
    "\n",
    "cmd = \"\"\"\n",
    "python DiffSynth-Studio/examples/train/kolors/train_kolors_lora.py \\\n",
    "  --pretrained_unet_path models/kolors/Kolors/unet/diffusion_pytorch_model.safetensors \\\n",
    "  --pretrained_text_encoder_path models/kolors/Kolors/text_encoder \\\n",
    "  --pretrained_fp16_vae_path models/sdxl-vae-fp16-fix/diffusion_pytorch_model.safetensors \\\n",
    "  --lora_rank 16 \\\n",
    "  --lora_alpha 4.0 \\\n",
    "  --dataset_path data/lora_dataset_processed \\\n",
    "  --output_path ./models \\\n",
    "  --max_epochs 1 \\\n",
    "  --center_crop \\\n",
    "  --use_gradient_checkpointing \\\n",
    "  --precision \"16-mixed\"\n",
    "\"\"\".strip()\n",
    "\n",
    "os.system(cmd)"
   ]
  },
  {
   "cell_type": "markdown",
   "id": "a369b485-55fc-4205-aca5-4fedf3dce9b1",
   "metadata": {
    "ExecutionIndicator": {
     "show": true
    },
    "tags": []
   },
   "source": [
    "加载模型"
   ]
  },
  {
   "cell_type": "code",
   "execution_count": 18,
   "id": "e12b1f07-9214-4d72-8415-e0059957d0d4",
   "metadata": {
    "ExecutionIndicator": {
     "show": true
    },
    "execution": {
     "iopub.execute_input": "2024-10-24T14:59:37.230500Z",
     "iopub.status.busy": "2024-10-24T14:59:37.230241Z",
     "iopub.status.idle": "2024-10-24T15:00:48.505186Z",
     "shell.execute_reply": "2024-10-24T15:00:48.504533Z",
     "shell.execute_reply.started": "2024-10-24T14:59:37.230482Z"
    },
    "tags": []
   },
   "outputs": [
    {
     "name": "stdout",
     "output_type": "stream",
     "text": [
      "Loading models from: models/kolors/Kolors/text_encoder\n"
     ]
    },
    {
     "data": {
      "application/vnd.jupyter.widget-view+json": {
       "model_id": "20787a25cc8d4f33904d5c1b4f56847b",
       "version_major": 2,
       "version_minor": 0
      },
      "text/plain": [
       "Loading checkpoint shards:   0%|          | 0/7 [00:00<?, ?it/s]"
      ]
     },
     "metadata": {},
     "output_type": "display_data"
    },
    {
     "name": "stdout",
     "output_type": "stream",
     "text": [
      "    The following models are loaded: ['kolors_text_encoder'].\n",
      "Loading models from: models/kolors/Kolors/unet/diffusion_pytorch_model.safetensors\n",
      "    model_name: sdxl_unet model_class: SDXLUNet\n",
      "        This model is initialized with extra kwargs: {'is_kolors': True}\n",
      "    The following models are loaded: ['sdxl_unet'].\n",
      "Loading models from: models/kolors/Kolors/vae/diffusion_pytorch_model.safetensors\n",
      "    model_name: sdxl_vae_encoder model_class: SDXLVAEEncoder\n",
      "        This model is initialized with extra kwargs: {'upcast_to_float32': True}\n",
      "    model_name: sdxl_vae_decoder model_class: SDXLVAEDecoder\n",
      "        This model is initialized with extra kwargs: {'upcast_to_float32': True}\n",
      "    The following models are loaded: ['sdxl_vae_encoder', 'sdxl_vae_decoder'].\n",
      "No sdxl_text_encoder models available.\n",
      "No sdxl_text_encoder_2 models available.\n",
      "Using kolors_text_encoder from models/kolors/Kolors/text_encoder.\n",
      "Using sdxl_unet from models/kolors/Kolors/unet/diffusion_pytorch_model.safetensors.\n",
      "Using sdxl_vae_decoder from models/kolors/Kolors/vae/diffusion_pytorch_model.safetensors.\n",
      "Using sdxl_vae_encoder from models/kolors/Kolors/vae/diffusion_pytorch_model.safetensors.\n",
      "No sdxl_ipadapter models available.\n",
      "No sdxl_ipadapter_clip_image_encoder models available.\n",
      "Switch to Kolors. The prompter and scheduler will be replaced.\n"
     ]
    },
    {
     "name": "stderr",
     "output_type": "stream",
     "text": [
      "/usr/local/lib/python3.10/site-packages/transformers/tokenization_utils_base.py:1601: FutureWarning: `clean_up_tokenization_spaces` was not set. It will be set to `True` by default. This behavior will be depracted in transformers v4.45, and will be then set to `False` by default. For more details check this issue: https://github.com/huggingface/transformers/issues/31884\n",
      "  warnings.warn(\n"
     ]
    }
   ],
   "source": [
    "from diffsynth import ModelManager, SDXLImagePipeline\n",
    "from peft import LoraConfig, inject_adapter_in_model\n",
    "import torch\n",
    "\n",
    "\n",
    "def load_lora(model, lora_rank, lora_alpha, lora_path):\n",
    "    lora_config = LoraConfig(\n",
    "        r=lora_rank,\n",
    "        lora_alpha=lora_alpha,\n",
    "        init_lora_weights=\"gaussian\",\n",
    "        target_modules=[\"to_q\", \"to_k\", \"to_v\", \"to_out\"],\n",
    "    )\n",
    "    model = inject_adapter_in_model(lora_config, model)\n",
    "    state_dict = torch.load(lora_path, map_location=\"cpu\")\n",
    "    model.load_state_dict(state_dict, strict=False)\n",
    "    return model\n",
    "\n",
    "\n",
    "# Load models\n",
    "model_manager = ModelManager(torch_dtype=torch.float16, device=\"cuda\",\n",
    "                             file_path_list=[\n",
    "                                 \"models/kolors/Kolors/text_encoder\",\n",
    "                                 \"models/kolors/Kolors/unet/diffusion_pytorch_model.safetensors\",\n",
    "                                 \"models/kolors/Kolors/vae/diffusion_pytorch_model.safetensors\"\n",
    "                             ])\n",
    "pipe = SDXLImagePipeline.from_model_manager(model_manager)\n",
    "\n",
    "# Load LoRA\n",
    "pipe.unet = load_lora(\n",
    "    pipe.unet,\n",
    "    lora_rank=16, # This parameter should be consistent with that in your training script.\n",
    "    lora_alpha=2.0, # lora_alpha can control the weight of LoRA.\n",
    "    lora_path=\"models/lightning_logs/version_0/checkpoints/epoch=0-step=500.ckpt\"\n",
    ")"
   ]
  },
  {
   "cell_type": "markdown",
   "id": "ab8d0849-04b3-4000-9276-572ed87dfa33",
   "metadata": {},
   "source": [
    "生成图像"
   ]
  },
  {
   "cell_type": "code",
   "execution_count": 19,
   "id": "94900db2-f0fb-41bc-8d23-366576f27b60",
   "metadata": {
    "ExecutionIndicator": {
     "show": false
    },
    "execution": {
     "iopub.execute_input": "2024-10-24T15:00:48.506735Z",
     "iopub.status.busy": "2024-10-24T15:00:48.506471Z",
     "iopub.status.idle": "2024-10-24T15:01:12.913831Z",
     "shell.execute_reply": "2024-10-24T15:01:12.913106Z",
     "shell.execute_reply.started": "2024-10-24T15:00:48.506718Z"
    },
    "tags": []
   },
   "outputs": [
    {
     "name": "stderr",
     "output_type": "stream",
     "text": [
      "  0%|          | 0/50 [00:00<?, ?it/s]/usr/local/lib/python3.10/site-packages/torch/nn/modules/conv.py:456: UserWarning: Plan failed with a cudnnException: CUDNN_BACKEND_EXECUTION_PLAN_DESCRIPTOR: cudnnFinalize Descriptor Failed cudnn_status: CUDNN_STATUS_NOT_SUPPORTED (Triggered internally at ../aten/src/ATen/native/cudnn/Conv_v8.cpp:919.)\n",
      "  return F.conv2d(input, weight, bias, self.stride,\n",
      "100%|██████████| 50/50 [00:20<00:00,  2.44it/s]\n",
      "/usr/local/lib/python3.10/site-packages/torch/nn/modules/conv.py:456: UserWarning: Plan failed with an OutOfMemoryError: CUDA out of memory. Tried to allocate 1.00 GiB. GPU  (Triggered internally at ../aten/src/ATen/native/cudnn/Conv_v8.cpp:924.)\n",
      "  return F.conv2d(input, weight, bias, self.stride,\n",
      "/usr/local/lib/python3.10/site-packages/torch/nn/modules/conv.py:456: UserWarning: Plan failed with an OutOfMemoryError: CUDA out of memory. Tried to allocate 2.00 GiB. GPU  (Triggered internally at ../aten/src/ATen/native/cudnn/Conv_v8.cpp:924.)\n",
      "  return F.conv2d(input, weight, bias, self.stride,\n",
      "/usr/local/lib/python3.10/site-packages/torch/nn/modules/conv.py:456: UserWarning: Plan failed with an OutOfMemoryError: CUDA out of memory. Tried to allocate 1.50 GiB. GPU  (Triggered internally at ../aten/src/ATen/native/cudnn/Conv_v8.cpp:924.)\n",
      "  return F.conv2d(input, weight, bias, self.stride,\n"
     ]
    }
   ],
   "source": [
    "torch.manual_seed(0)\n",
    "image = pipe(\n",
    "    prompt=\"未来实验室，一位考古学家，穿着宇航服，正在检查复杂的时间机器，背景是充满高科技设备的实验室，赛博朋克风格, 主要凸显实验室和时间机器，时间机器很大，显得考古学家很小\",\n",
    "    negative_prompt=\"丑陋、变形、嘈杂、模糊、低对比度\",\n",
    "    cfg_scale=4,\n",
    "    num_inference_steps=50, height=1024, width=1024,\n",
    ")\n",
    "image.save(\"1.jpg\")\n",
    "torch.cuda.empty_cache()"
   ]
  },
  {
   "cell_type": "code",
   "execution_count": 20,
   "id": "5ab076bc-b33f-44f4-87b4-03c9a50841d8",
   "metadata": {
    "ExecutionIndicator": {
     "show": false
    },
    "execution": {
     "iopub.execute_input": "2024-10-24T15:01:12.915278Z",
     "iopub.status.busy": "2024-10-24T15:01:12.914928Z",
     "iopub.status.idle": "2024-10-24T15:01:32.235843Z",
     "shell.execute_reply": "2024-10-24T15:01:32.235319Z",
     "shell.execute_reply.started": "2024-10-24T15:01:12.915247Z"
    },
    "tags": []
   },
   "outputs": [
    {
     "name": "stderr",
     "output_type": "stream",
     "text": [
      "100%|██████████| 50/50 [00:18<00:00,  2.70it/s]\n"
     ]
    }
   ],
   "source": [
    "torch.manual_seed(1)\n",
    "image = pipe(\n",
    "    prompt=\"古埃及风格，沙漠背景，金字塔建造现场，工人搬运巨石，象形文字装饰，日落时分，沙漠色调，一位考古学家穿着宇航服站在金字塔顶\",\n",
    "    negative_prompt=\"丑陋、变形、嘈杂、模糊、低对比度\",\n",
    "    cfg_scale=4,\n",
    "    num_inference_steps=50, height=1024, width=1024,\n",
    ")\n",
    "image.save(\"2.jpg\")\n",
    "torch.cuda.empty_cache()"
   ]
  },
  {
   "cell_type": "code",
   "execution_count": 21,
   "id": "73f6560e-5012-4957-b6b3-1ed1c76b57d8",
   "metadata": {
    "ExecutionIndicator": {
     "show": false
    },
    "execution": {
     "iopub.execute_input": "2024-10-24T15:01:32.237076Z",
     "iopub.status.busy": "2024-10-24T15:01:32.236623Z",
     "iopub.status.idle": "2024-10-24T15:01:51.655629Z",
     "shell.execute_reply": "2024-10-24T15:01:51.655122Z",
     "shell.execute_reply.started": "2024-10-24T15:01:32.237051Z"
    },
    "tags": []
   },
   "outputs": [
    {
     "name": "stderr",
     "output_type": "stream",
     "text": [
      "100%|██████████| 50/50 [00:18<00:00,  2.69it/s]\n"
     ]
    }
   ],
   "source": [
    "torch.manual_seed(2)\n",
    "image = pipe(\n",
    "    prompt=\"唐朝风格，背景是唐朝建筑和园林，展现唐朝宏伟建筑和文化和艺术，身穿宇航服的考古学家站在门前观察\",\n",
    "    negative_prompt=\"丑陋、变形、嘈杂、模糊、低对比度\",\n",
    "    cfg_scale=4,\n",
    "    num_inference_steps=50, height=1024, width=1024,\n",
    ")\n",
    "image.save(\"3.jpg\")\n",
    "torch.cuda.empty_cache()"
   ]
  },
  {
   "cell_type": "code",
   "execution_count": 22,
   "id": "0fa9cf0b-f5f0-49b5-99ca-8a1094df979a",
   "metadata": {
    "ExecutionIndicator": {
     "show": false
    },
    "execution": {
     "iopub.execute_input": "2024-10-24T15:01:51.657057Z",
     "iopub.status.busy": "2024-10-24T15:01:51.656521Z",
     "iopub.status.idle": "2024-10-24T15:02:11.154320Z",
     "shell.execute_reply": "2024-10-24T15:02:11.153701Z",
     "shell.execute_reply.started": "2024-10-24T15:01:51.657026Z"
    },
    "tags": []
   },
   "outputs": [
    {
     "name": "stderr",
     "output_type": "stream",
     "text": [
      "100%|██████████| 50/50 [00:18<00:00,  2.68it/s]\n"
     ]
    }
   ],
   "source": [
    "torch.manual_seed(5)\n",
    "image = pipe(\n",
    "    prompt=\"中世纪欧洲风格，哥特式城堡，一个身穿宇航服的考古学家观察防御战斗，背景是中世纪战争场景，旗帜飘扬，铠甲和剑\",\n",
    "    negative_prompt=\"丑陋、变形、嘈杂、模糊、低对比度\",\n",
    "    cfg_scale=4,\n",
    "    num_inference_steps=50, height=1024, width=1024,\n",
    ")\n",
    "image.save(\"4.jpg\")\n",
    "torch.cuda.empty_cache()"
   ]
  },
  {
   "cell_type": "code",
   "execution_count": 23,
   "id": "81806612-7683-4b91-bb45-3a352f500880",
   "metadata": {
    "ExecutionIndicator": {
     "show": false
    },
    "execution": {
     "iopub.execute_input": "2024-10-24T15:02:11.155383Z",
     "iopub.status.busy": "2024-10-24T15:02:11.155191Z",
     "iopub.status.idle": "2024-10-24T15:02:30.704589Z",
     "shell.execute_reply": "2024-10-24T15:02:30.704079Z",
     "shell.execute_reply.started": "2024-10-24T15:02:11.155366Z"
    },
    "tags": []
   },
   "outputs": [
    {
     "name": "stderr",
     "output_type": "stream",
     "text": [
      "100%|██████████| 50/50 [00:18<00:00,  2.67it/s]\n"
     ]
    }
   ],
   "source": [
    "torch.manual_seed(0)\n",
    "image = pipe(\n",
    "    prompt=\"未来世界风格，赛博朋克背景，一位身穿宇航服的考古学家站在高科技的悬空城市中，周围是AI机器人和全息投影等，悬空的建筑和交通，展现AI主导的科技文明\",\n",
    "    negative_prompt=\"丑陋、变形、嘈杂、模糊、低对比度\",\n",
    "    cfg_scale=4,\n",
    "    num_inference_steps=50, height=1024, width=1024,\n",
    ")\n",
    "image.save(\"5.jpg\")\n",
    "torch.cuda.empty_cache()"
   ]
  },
  {
   "cell_type": "code",
   "execution_count": 24,
   "id": "4e5c4c8d-97e4-4ab2-9d5a-b0c229b23be8",
   "metadata": {
    "ExecutionIndicator": {
     "show": false
    },
    "execution": {
     "iopub.execute_input": "2024-10-24T15:02:30.706344Z",
     "iopub.status.busy": "2024-10-24T15:02:30.706076Z",
     "iopub.status.idle": "2024-10-24T15:02:50.297602Z",
     "shell.execute_reply": "2024-10-24T15:02:50.296951Z",
     "shell.execute_reply.started": "2024-10-24T15:02:30.706327Z"
    },
    "tags": []
   },
   "outputs": [
    {
     "name": "stderr",
     "output_type": "stream",
     "text": [
      "100%|██████████| 50/50 [00:18<00:00,  2.67it/s]\n"
     ]
    }
   ],
   "source": [
    "torch.manual_seed(1)\n",
    "image = pipe(\n",
    "    prompt=\"未来世界与古代文明混合风格，一位身穿宇航服的考古学家站在远古遗迹前，背景是未来城市的天际线，遗迹上有古代象形文字和高科技元素\",\n",
    "    negative_prompt=\"丑陋、变形、嘈杂、模糊、低对比度\",\n",
    "    cfg_scale=4,\n",
    "    num_inference_steps=50, height=1024, width=1024,\n",
    ")\n",
    "image.save(\"6.jpg\")\n",
    "torch.cuda.empty_cache()"
   ]
  },
  {
   "cell_type": "code",
   "execution_count": 25,
   "id": "3ffd2e09-dc14-4e33-a203-da7eb7ae8cb1",
   "metadata": {
    "ExecutionIndicator": {
     "show": true
    },
    "execution": {
     "iopub.execute_input": "2024-10-24T15:02:50.298920Z",
     "iopub.status.busy": "2024-10-24T15:02:50.298599Z",
     "iopub.status.idle": "2024-10-24T15:03:09.908939Z",
     "shell.execute_reply": "2024-10-24T15:03:09.908325Z",
     "shell.execute_reply.started": "2024-10-24T15:02:50.298889Z"
    },
    "tags": []
   },
   "outputs": [
    {
     "name": "stderr",
     "output_type": "stream",
     "text": [
      "100%|██████████| 50/50 [00:18<00:00,  2.66it/s]\n"
     ]
    }
   ],
   "source": [
    "torch.manual_seed(7)\n",
    "image = pipe(\n",
    "    prompt=\"未知时代风格为主，混杂很多历史元素，时间机器发出故障报错的的红色警示灯，背景是神秘和未知的氛围，混合了不同历史时期的建筑和服饰，很混杂，一位身穿宇航服的考古学家站在时间机器旁，显得很渺小\",\n",
    "    negative_prompt=\"丑陋、清晰、高对比度、高清\",\n",
    "    cfg_scale=4,\n",
    "    num_inference_steps=50, height=1024, width=1024,\n",
    ")\n",
    "image.save(\"7.jpg\")\n",
    "torch.cuda.empty_cache()"
   ]
  },
  {
   "cell_type": "code",
   "execution_count": 26,
   "id": "11659ced-351f-4306-a58c-7ae7e7220dc6",
   "metadata": {
    "ExecutionIndicator": {
     "show": true
    },
    "execution": {
     "iopub.execute_input": "2024-10-24T15:03:09.910018Z",
     "iopub.status.busy": "2024-10-24T15:03:09.909727Z",
     "iopub.status.idle": "2024-10-24T15:03:29.527308Z",
     "shell.execute_reply": "2024-10-24T15:03:29.526753Z",
     "shell.execute_reply.started": "2024-10-24T15:03:09.910000Z"
    },
    "tags": []
   },
   "outputs": [
    {
     "name": "stderr",
     "output_type": "stream",
     "text": [
      "100%|██████████| 50/50 [00:18<00:00,  2.66it/s]\n"
     ]
    }
   ],
   "source": [
    "torch.manual_seed(0)\n",
    "image = pipe(\n",
    "    prompt=\"现代与未知时代混合风格，一位渺小的身穿宇航服的考古学家成功修复庞大的时间机器，他挥手告别，背景是现代实验室和未知时代的遗迹，庞大的时间机器发出启动的光芒，展现对历史的新认识\",\n",
    "    negative_prompt=\"丑陋、变形、嘈杂、模糊、高对比度\",\n",
    "    cfg_scale=4,\n",
    "    num_inference_steps=50, height=1024, width=1024,\n",
    ")\n",
    "image.save(\"8.jpg\")"
   ]
  },
  {
   "cell_type": "code",
   "execution_count": 27,
   "id": "5cfb2c8b-6f38-48cb-a4cc-f31b64bc93e9",
   "metadata": {
    "ExecutionIndicator": {
     "show": true
    },
    "execution": {
     "iopub.execute_input": "2024-10-24T15:03:29.528319Z",
     "iopub.status.busy": "2024-10-24T15:03:29.528056Z",
     "iopub.status.idle": "2024-10-24T15:03:29.710483Z",
     "shell.execute_reply": "2024-10-24T15:03:29.709935Z",
     "shell.execute_reply.started": "2024-10-24T15:03:29.528303Z"
    },
    "tags": []
   },
   "outputs": [],
   "source": [
    "import numpy as np\n",
    "from PIL import Image\n",
    "\n",
    "\n",
    "images = [np.array(Image.open(f\"{i}.jpg\")) for i in range(1, 9)]\n",
    "image = np.concatenate([\n",
    "    np.concatenate(images[0:2], axis=1),\n",
    "    np.concatenate(images[2:4], axis=1),\n",
    "    np.concatenate(images[4:6], axis=1),\n",
    "    np.concatenate(images[6:8], axis=1),\n",
    "], axis=0)\n",
    "image = Image.fromarray(image).resize((1024, 2048))\n",
    "image.save(\"final.jpg\")"
   ]
  },
  {
   "cell_type": "code",
   "execution_count": null,
   "id": "01933454-4fa2-4215-aea8-282bf4cb3def",
   "metadata": {},
   "outputs": [],
   "source": []
  }
 ],
 "metadata": {
  "kernelspec": {
   "display_name": "Python 3 (ipykernel)",
   "language": "python",
   "name": "python3"
  },
  "language_info": {
   "codemirror_mode": {
    "name": "ipython",
    "version": 3
   },
   "file_extension": ".py",
   "mimetype": "text/x-python",
   "name": "python",
   "nbconvert_exporter": "python",
   "pygments_lexer": "ipython3",
   "version": "3.10.14"
  }
 },
 "nbformat": 4,
 "nbformat_minor": 5
}
